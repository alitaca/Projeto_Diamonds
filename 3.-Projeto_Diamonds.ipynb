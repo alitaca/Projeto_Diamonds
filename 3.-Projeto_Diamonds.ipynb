{
 "cells": [
  {
   "cell_type": "markdown",
   "id": "future-apollo",
   "metadata": {},
   "source": [
    "#  Projeto Diamonds"
   ]
  },
  {
   "cell_type": "markdown",
   "id": "native-infrared",
   "metadata": {},
   "source": [
    "## Preparando código"
   ]
  },
  {
   "cell_type": "code",
   "execution_count": 30,
   "id": "functioning-interface",
   "metadata": {
    "ExecuteTime": {
     "end_time": "2021-04-30T15:10:48.189446Z",
     "start_time": "2021-04-30T15:10:48.182464Z"
    }
   },
   "outputs": [],
   "source": [
    "# importando bibliotecas\n",
    "import pandas as pd\n",
    "import numpy as np\n",
    "import matplotlib.pyplot as plt\n",
    "from scipy.spatial.distance import pdist, squareform\n",
    "from sklearn.linear_model import LinearRegression, RANSACRegressor"
   ]
  },
  {
   "cell_type": "code",
   "execution_count": 2,
   "id": "approximate-mouth",
   "metadata": {
    "ExecuteTime": {
     "end_time": "2021-04-30T14:02:28.887520Z",
     "start_time": "2021-04-30T14:02:28.788135Z"
    }
   },
   "outputs": [],
   "source": [
    "hist_dia = pd.read_csv('data/diamonds.csv')\n",
    "rick_dia = pd.read_csv('data/rick_diamonds.csv')"
   ]
  },
  {
   "cell_type": "code",
   "execution_count": null,
   "id": "competent-poster",
   "metadata": {
    "ExecuteTime": {
     "end_time": "2021-04-29T22:07:07.111871Z",
     "start_time": "2021-04-29T22:07:07.087936Z"
    }
   },
   "outputs": [],
   "source": [
    "hist_dia.info()"
   ]
  },
  {
   "cell_type": "code",
   "execution_count": null,
   "id": "racial-domestic",
   "metadata": {
    "ExecuteTime": {
     "end_time": "2021-04-28T21:03:32.025869Z",
     "start_time": "2021-04-28T21:03:31.968991Z"
    }
   },
   "outputs": [],
   "source": [
    "hist_dia.describe()"
   ]
  },
  {
   "cell_type": "code",
   "execution_count": 15,
   "id": "romantic-soundtrack",
   "metadata": {
    "ExecuteTime": {
     "end_time": "2021-04-30T14:04:44.912254Z",
     "start_time": "2021-04-30T14:04:44.872361Z"
    }
   },
   "outputs": [
    {
     "data": {
      "text/plain": [
       "carat          0.922186\n",
       "depth         -0.012037\n",
       "table          0.127832\n",
       "price          1.000000\n",
       "x              0.885019\n",
       "y              0.864059\n",
       "z              0.860247\n",
       "clar          -0.148668\n",
       "color_class   -0.173129\n",
       "cut_class     -0.055150\n",
       "Name: price, dtype: float64"
      ]
     },
     "execution_count": 15,
     "metadata": {},
     "output_type": "execute_result"
    }
   ],
   "source": [
    "hist_dia.corr()['price']"
   ]
  },
  {
   "cell_type": "code",
   "execution_count": 3,
   "id": "roman-label",
   "metadata": {
    "ExecuteTime": {
     "end_time": "2021-04-30T14:02:38.412137Z",
     "start_time": "2021-04-30T14:02:37.660756Z"
    }
   },
   "outputs": [
    {
     "data": {
      "image/png": "[encoded data removed]",
      "text/plain": [
       "<Figure size 432x288 with 1 Axes>"
      ]
     },
     "metadata": {
      "needs_background": "light"
     },
     "output_type": "display_data"
    },
    {
     "data": {
      "image/png": "[encoded data removed]",
      "text/plain": [
       "<Figure size 432x288 with 1 Axes>"
      ]
     },
     "metadata": {
      "needs_background": "light"
     },
     "output_type": "display_data"
    },
    {
     "data": {
      "image/png": "[encoded data removed]",
      "text/plain": [
       "<Figure size 432x288 with 1 Axes>"
      ]
     },
     "metadata": {
      "needs_background": "light"
     },
     "output_type": "display_data"
    },
    {
     "data": {
      "image/png": "[encoded data removed]",
      "text/plain": [
       "<Figure size 432x288 with 1 Axes>"
      ]
     },
     "metadata": {
      "needs_background": "light"
     },
     "output_type": "display_data"
    }
   ],
   "source": [
    "plt.hist(hist_dia['price'])\n",
    "plt.title('price')\n",
    "plt.show()\n",
    "\n",
    "plt.hist(hist_dia['carat'], bins=10)\n",
    "plt.title('carat')\n",
    "plt.show()\n",
    "\n",
    "plt.hist(hist_dia['depth'], bins=20)\n",
    "plt.title('depth')\n",
    "plt.show()\n",
    "\n",
    "plt.hist(hist_dia['table'], bins=20)\n",
    "plt.title('table')\n",
    "plt.show()"
   ]
  },
  {
   "cell_type": "markdown",
   "id": "selected-challenge",
   "metadata": {},
   "source": [
    "##  Primeira Baseline - Média"
   ]
  },
  {
   "cell_type": "code",
   "execution_count": null,
   "id": "present-abraham",
   "metadata": {
    "ExecuteTime": {
     "end_time": "2021-04-28T21:03:38.380253Z",
     "start_time": "2021-04-28T21:03:38.373241Z"
    }
   },
   "outputs": [],
   "source": [
    "# Avaliando a média de preços\n",
    "hist_dia['price'].mean()"
   ]
  },
  {
   "cell_type": "code",
   "execution_count": 8,
   "id": "modular-exposure",
   "metadata": {
    "ExecuteTime": {
     "end_time": "2021-04-30T14:03:02.353459Z",
     "start_time": "2021-04-30T14:03:02.339498Z"
    }
   },
   "outputs": [],
   "source": [
    "def calcula_erro_media(df):\n",
    "    ''' Esta funcao recebe um dataframe com uma coluna 'price_predicted' e calcula\n",
    "        o RMSE em relacao a media de preço de diamantes\n",
    "    '''\n",
    "    \n",
    "    from sklearn.metrics import mean_squared_error\n",
    "    from sklearn.metrics import r2_score\n",
    "    \n",
    "    y_mean = [hist_dia['price'].mean() for i in range(len(df))]\n",
    "    \n",
    "    rmse_media = mean_squared_error(y_mean, df['price_predicted'])\n",
    "    r2_media = r2_score(y_mean, df['price_predicted'])\n",
    "    \n",
    "    return rmse_media, r2_media"
   ]
  },
  {
   "cell_type": "markdown",
   "id": "increasing-relative",
   "metadata": {},
   "source": [
    "##  Desenvolvimento"
   ]
  },
  {
   "cell_type": "markdown",
   "id": "extreme-orleans",
   "metadata": {},
   "source": [
    "###  Primeira Regressão Linear - Sem tratamento"
   ]
  },
  {
   "cell_type": "markdown",
   "id": "electoral-concentration",
   "metadata": {},
   "source": [
    "Erro: 1562.4289387419713"
   ]
  },
  {
   "cell_type": "code",
   "execution_count": 4,
   "id": "working-paper",
   "metadata": {
    "ExecuteTime": {
     "end_time": "2021-04-30T14:02:52.376599Z",
     "start_time": "2021-04-30T14:02:52.364599Z"
    }
   },
   "outputs": [],
   "source": [
    "X = hist_dia[['carat', 'depth', 'table', 'x', 'y', 'z']]\n",
    "y = hist_dia['price']"
   ]
  },
  {
   "cell_type": "code",
   "execution_count": 5,
   "id": "instructional-george",
   "metadata": {
    "ExecuteTime": {
     "end_time": "2021-04-30T14:02:53.371901Z",
     "start_time": "2021-04-30T14:02:53.328053Z"
    }
   },
   "outputs": [
    {
     "data": {
      "text/plain": [
       "LinearRegression()"
      ]
     },
     "execution_count": 5,
     "metadata": {},
     "output_type": "execute_result"
    }
   ],
   "source": [
    "model_1 = LinearRegression()\n",
    "model_1.fit(X,y)"
   ]
  },
  {
   "cell_type": "code",
   "execution_count": 6,
   "id": "average-satellite",
   "metadata": {
    "ExecuteTime": {
     "end_time": "2021-04-30T14:02:54.273150Z",
     "start_time": "2021-04-30T14:02:54.255166Z"
    }
   },
   "outputs": [],
   "source": [
    "rick_dia['price_predicted'] = model_1.predict(rick_dia[['carat', 'depth', 'table', 'x', 'y', 'z']])"
   ]
  },
  {
   "cell_type": "code",
   "execution_count": 9,
   "id": "everyday-disposal",
   "metadata": {
    "ExecuteTime": {
     "end_time": "2021-04-30T14:03:06.226708Z",
     "start_time": "2021-04-30T14:03:05.723895Z"
    }
   },
   "outputs": [
    {
     "data": {
      "text/plain": [
       "(13587721.414728124, 0.0)"
      ]
     },
     "execution_count": 9,
     "metadata": {},
     "output_type": "execute_result"
    }
   ],
   "source": [
    "calcula_erro_media(rick_dia)"
   ]
  },
  {
   "cell_type": "markdown",
   "id": "lightweight-spring",
   "metadata": {},
   "source": [
    "###  Tratamento 1: escolhendo colunas numéricas"
   ]
  },
  {
   "cell_type": "markdown",
   "id": "supposed-organizer",
   "metadata": {},
   "source": [
    "Erro: 1586.858254661364"
   ]
  },
  {
   "cell_type": "code",
   "execution_count": null,
   "id": "spoken-latin",
   "metadata": {
    "ExecuteTime": {
     "end_time": "2021-04-28T21:05:07.989409Z",
     "start_time": "2021-04-28T21:05:07.955500Z"
    }
   },
   "outputs": [],
   "source": [
    "hist_dia.corr()['price']"
   ]
  },
  {
   "cell_type": "code",
   "execution_count": null,
   "id": "devoted-colon",
   "metadata": {
    "ExecuteTime": {
     "end_time": "2021-04-28T21:05:10.236395Z",
     "start_time": "2021-04-28T21:05:10.225421Z"
    }
   },
   "outputs": [],
   "source": [
    "X = hist_dia[['carat', 'x', 'y', 'z']]\n",
    "y = hist_dia['price']"
   ]
  },
  {
   "cell_type": "code",
   "execution_count": null,
   "id": "distributed-guard",
   "metadata": {
    "ExecuteTime": {
     "end_time": "2021-04-28T21:05:10.846827Z",
     "start_time": "2021-04-28T21:05:10.824851Z"
    }
   },
   "outputs": [],
   "source": [
    "model_2 = LinearRegression()\n",
    "model_2.fit(X,y)"
   ]
  },
  {
   "cell_type": "code",
   "execution_count": null,
   "id": "mature-weight",
   "metadata": {
    "ExecuteTime": {
     "end_time": "2021-04-28T21:05:11.461579Z",
     "start_time": "2021-04-28T21:05:11.450610Z"
    }
   },
   "outputs": [],
   "source": [
    "rick_dia['price_predicted'] = model_2.predict(rick_dia[['carat', 'x', 'y', 'z']])"
   ]
  },
  {
   "cell_type": "code",
   "execution_count": null,
   "id": "controlled-enterprise",
   "metadata": {
    "ExecuteTime": {
     "end_time": "2021-04-28T20:44:49.021783Z",
     "start_time": "2021-04-28T20:44:48.592240Z"
    }
   },
   "outputs": [],
   "source": [
    "calcula_erro_media(rick_dia)"
   ]
  },
  {
   "cell_type": "markdown",
   "id": "nominated-wayne",
   "metadata": {},
   "source": [
    "###  Tratando coluna 'carat'"
   ]
  },
  {
   "cell_type": "markdown",
   "id": "female-majority",
   "metadata": {},
   "source": [
    "**Esta frente pode ser abandonada !!!**\n",
    "\n",
    "Erro: 1587.6633357235637"
   ]
  },
  {
   "cell_type": "code",
   "execution_count": null,
   "id": "occupied-lodge",
   "metadata": {
    "ExecuteTime": {
     "end_time": "2021-04-28T20:29:52.915036Z",
     "start_time": "2021-04-28T20:29:52.490028Z"
    }
   },
   "outputs": [],
   "source": [
    "plt.scatter(x='carat', y='price', data=hist_dia)\n",
    "plt.show()"
   ]
  },
  {
   "cell_type": "code",
   "execution_count": null,
   "id": "academic-nirvana",
   "metadata": {
    "ExecuteTime": {
     "end_time": "2021-04-28T21:06:08.542094Z",
     "start_time": "2021-04-28T21:06:08.531137Z"
    }
   },
   "outputs": [],
   "source": [
    "hist_dia.loc[hist_dia['carat']>3.2, 'carat'] = hist_dia['carat'].median()"
   ]
  },
  {
   "cell_type": "code",
   "execution_count": null,
   "id": "chemical-subsection",
   "metadata": {
    "ExecuteTime": {
     "end_time": "2021-04-28T21:07:17.343092Z",
     "start_time": "2021-04-28T21:07:17.329130Z"
    }
   },
   "outputs": [],
   "source": [
    "X = hist_dia[['carat', 'x', 'y', 'z']]\n",
    "y = hist_dia['price']"
   ]
  },
  {
   "cell_type": "code",
   "execution_count": null,
   "id": "growing-rugby",
   "metadata": {
    "ExecuteTime": {
     "end_time": "2021-04-28T21:07:17.886450Z",
     "start_time": "2021-04-28T21:07:17.872489Z"
    }
   },
   "outputs": [],
   "source": [
    "model_3 = LinearRegression()\n",
    "model_3.fit(X,y)"
   ]
  },
  {
   "cell_type": "code",
   "execution_count": null,
   "id": "graduate-chancellor",
   "metadata": {
    "ExecuteTime": {
     "end_time": "2021-04-28T21:07:19.921506Z",
     "start_time": "2021-04-28T21:07:19.910512Z"
    }
   },
   "outputs": [],
   "source": [
    "rick_dia['price_predicted'] = model_3.predict(rick_dia[['carat', 'x', 'y', 'z']])"
   ]
  },
  {
   "cell_type": "code",
   "execution_count": null,
   "id": "retired-competition",
   "metadata": {
    "ExecuteTime": {
     "end_time": "2021-04-28T21:07:23.222638Z",
     "start_time": "2021-04-28T21:07:22.792128Z"
    }
   },
   "outputs": [],
   "source": [
    "calcula_erro_media(rick_dia)"
   ]
  },
  {
   "cell_type": "markdown",
   "id": "pending-brother",
   "metadata": {},
   "source": [
    "###  Tratando coluna 'clarity'"
   ]
  },
  {
   "cell_type": "markdown",
   "id": "creative-police",
   "metadata": {},
   "source": [
    "Erro: 1398.109285038074"
   ]
  },
  {
   "cell_type": "code",
   "execution_count": null,
   "id": "generic-bible",
   "metadata": {
    "ExecuteTime": {
     "end_time": "2021-04-28T20:48:35.599225Z",
     "start_time": "2021-04-28T20:48:35.588286Z"
    },
    "scrolled": true
   },
   "outputs": [],
   "source": [
    "hist_dia['clarity'].value_counts()"
   ]
  },
  {
   "cell_type": "code",
   "execution_count": 10,
   "id": "demonstrated-preliminary",
   "metadata": {
    "ExecuteTime": {
     "end_time": "2021-04-30T14:03:27.961660Z",
     "start_time": "2021-04-30T14:03:27.923764Z"
    }
   },
   "outputs": [],
   "source": [
    "# Transformando strings da coluna 'clarity' em inteiros discretos\n",
    "clarity_order = {'I1': 0, 'SI2': 1, 'SI1': 2, 'VS2': 3, 'VS1': 4, 'VVS2': 5, 'VVS1': 6, 'IF': 7}\n",
    "\n",
    "hist_dia['clar'] = hist_dia['clarity'].apply(lambda x: clarity_order[x])\n",
    "rick_dia['clar'] = rick_dia['clarity'].apply(lambda x: clarity_order[x])"
   ]
  },
  {
   "cell_type": "code",
   "execution_count": null,
   "id": "functioning-greensboro",
   "metadata": {
    "ExecuteTime": {
     "end_time": "2021-04-28T21:07:17.343092Z",
     "start_time": "2021-04-28T21:07:17.329130Z"
    }
   },
   "outputs": [],
   "source": [
    "X = hist_dia[['carat', 'clar', 'x', 'y', 'z']]\n",
    "y = hist_dia['price']"
   ]
  },
  {
   "cell_type": "code",
   "execution_count": null,
   "id": "suited-puppy",
   "metadata": {
    "ExecuteTime": {
     "end_time": "2021-04-28T21:07:17.886450Z",
     "start_time": "2021-04-28T21:07:17.872489Z"
    }
   },
   "outputs": [],
   "source": [
    "model_4 = LinearRegression()\n",
    "model_4.fit(X,y)"
   ]
  },
  {
   "cell_type": "code",
   "execution_count": null,
   "id": "amateur-functionality",
   "metadata": {
    "ExecuteTime": {
     "end_time": "2021-04-28T21:07:19.921506Z",
     "start_time": "2021-04-28T21:07:19.910512Z"
    }
   },
   "outputs": [],
   "source": [
    "rick_dia['price_predicted'] = model_4.predict(rick_dia[['carat', 'clar', 'x', 'y', 'z']])"
   ]
  },
  {
   "cell_type": "code",
   "execution_count": null,
   "id": "industrial-savannah",
   "metadata": {
    "ExecuteTime": {
     "end_time": "2021-04-28T21:07:23.222638Z",
     "start_time": "2021-04-28T21:07:22.792128Z"
    }
   },
   "outputs": [],
   "source": [
    "calcula_erro_media(rick_dia)"
   ]
  },
  {
   "cell_type": "markdown",
   "id": "directed-delight",
   "metadata": {},
   "source": [
    "###  Tratando coluna 'color'"
   ]
  },
  {
   "cell_type": "markdown",
   "id": "decreased-frank",
   "metadata": {},
   "source": [
    "Erro: 1300.193480874001"
   ]
  },
  {
   "cell_type": "code",
   "execution_count": null,
   "id": "distinguished-bandwidth",
   "metadata": {
    "ExecuteTime": {
     "end_time": "2021-04-28T21:11:10.314982Z",
     "start_time": "2021-04-28T21:11:10.300021Z"
    },
    "scrolled": true
   },
   "outputs": [],
   "source": [
    "hist_dia['color'].value_counts()"
   ]
  },
  {
   "cell_type": "code",
   "execution_count": 11,
   "id": "obvious-possible",
   "metadata": {
    "ExecuteTime": {
     "end_time": "2021-04-30T14:03:32.776085Z",
     "start_time": "2021-04-30T14:03:32.743172Z"
    }
   },
   "outputs": [],
   "source": [
    "# Transformando strings da coluna 'clarity' em inteiros discretos\n",
    "color_order = {'J': 0, 'I': 1, 'H': 2, 'G': 3, 'F': 4, 'E': 5, 'D': 6}\n",
    "\n",
    "hist_dia['color_class'] = hist_dia['color'].apply(lambda x: color_order[x])\n",
    "rick_dia['color_class'] = rick_dia['color'].apply(lambda x: color_order[x])"
   ]
  },
  {
   "cell_type": "code",
   "execution_count": null,
   "id": "silver-senator",
   "metadata": {
    "ExecuteTime": {
     "end_time": "2021-04-28T21:15:16.624505Z",
     "start_time": "2021-04-28T21:15:16.604590Z"
    }
   },
   "outputs": [],
   "source": [
    "X = hist_dia[['carat', 'clar', 'color_class', 'x', 'y', 'z']]\n",
    "y = hist_dia['price']"
   ]
  },
  {
   "cell_type": "code",
   "execution_count": null,
   "id": "spare-recruitment",
   "metadata": {
    "ExecuteTime": {
     "end_time": "2021-04-28T21:15:17.382848Z",
     "start_time": "2021-04-28T21:15:17.359911Z"
    }
   },
   "outputs": [],
   "source": [
    "model_5 = LinearRegression()\n",
    "model_5.fit(X,y)"
   ]
  },
  {
   "cell_type": "code",
   "execution_count": null,
   "id": "express-failure",
   "metadata": {
    "ExecuteTime": {
     "end_time": "2021-04-28T21:15:18.271423Z",
     "start_time": "2021-04-28T21:15:18.253474Z"
    }
   },
   "outputs": [],
   "source": [
    "rick_dia['price_predicted'] = model_5.predict(rick_dia[['carat', 'clar', 'color_class', 'x', 'y', 'z']])"
   ]
  },
  {
   "cell_type": "code",
   "execution_count": null,
   "id": "based-occasion",
   "metadata": {
    "ExecuteTime": {
     "end_time": "2021-04-28T21:15:20.565645Z",
     "start_time": "2021-04-28T21:15:20.164486Z"
    }
   },
   "outputs": [],
   "source": [
    "calcula_erro_media(rick_dia)"
   ]
  },
  {
   "cell_type": "markdown",
   "id": "excellent-paper",
   "metadata": {},
   "source": [
    "###  Tratando coluna 'cut'"
   ]
  },
  {
   "cell_type": "markdown",
   "id": "plastic-canadian",
   "metadata": {},
   "source": [
    "Erro: 1288.2588485040092"
   ]
  },
  {
   "cell_type": "code",
   "execution_count": null,
   "id": "stuffed-mandate",
   "metadata": {
    "ExecuteTime": {
     "end_time": "2021-04-28T21:11:10.314982Z",
     "start_time": "2021-04-28T21:11:10.300021Z"
    },
    "scrolled": true
   },
   "outputs": [],
   "source": [
    "hist_dia['cut'].value_counts()"
   ]
  },
  {
   "cell_type": "code",
   "execution_count": 12,
   "id": "artistic-detroit",
   "metadata": {
    "ExecuteTime": {
     "end_time": "2021-04-30T14:03:36.522176Z",
     "start_time": "2021-04-30T14:03:36.494120Z"
    }
   },
   "outputs": [],
   "source": [
    "# Transformando strings da coluna 'clarity' em inteiros discretos\n",
    "cut_order = {'Fair': 0, 'Good': 1, 'Very Good': 2, 'Premium': 3, 'Ideal': 4}\n",
    "\n",
    "hist_dia['cut_class'] = hist_dia['cut'].apply(lambda x: cut_order[x])\n",
    "rick_dia['cut_class'] = rick_dia['cut'].apply(lambda x: cut_order[x])"
   ]
  },
  {
   "cell_type": "code",
   "execution_count": null,
   "id": "silver-ticket",
   "metadata": {
    "ExecuteTime": {
     "end_time": "2021-04-28T21:15:16.624505Z",
     "start_time": "2021-04-28T21:15:16.604590Z"
    }
   },
   "outputs": [],
   "source": [
    "X = hist_dia[['carat', 'clar','color_class', 'cut_class', 'x', 'y', 'z']]\n",
    "y = hist_dia['price']"
   ]
  },
  {
   "cell_type": "code",
   "execution_count": null,
   "id": "mobile-things",
   "metadata": {
    "ExecuteTime": {
     "end_time": "2021-04-28T21:15:17.382848Z",
     "start_time": "2021-04-28T21:15:17.359911Z"
    }
   },
   "outputs": [],
   "source": [
    "model_6 = LinearRegression()\n",
    "model_6.fit(X,y)"
   ]
  },
  {
   "cell_type": "code",
   "execution_count": null,
   "id": "legislative-messenger",
   "metadata": {
    "ExecuteTime": {
     "end_time": "2021-04-28T21:15:18.271423Z",
     "start_time": "2021-04-28T21:15:18.253474Z"
    }
   },
   "outputs": [],
   "source": [
    "rick_dia['price_predicted'] = model_6.predict(rick_dia[['carat', 'clar', 'color_class', 'cut_class', 'x', 'y', 'z']])"
   ]
  },
  {
   "cell_type": "code",
   "execution_count": null,
   "id": "confident-brooks",
   "metadata": {
    "ExecuteTime": {
     "end_time": "2021-04-28T21:15:20.565645Z",
     "start_time": "2021-04-28T21:15:20.164486Z"
    }
   },
   "outputs": [],
   "source": [
    "calcula_erro_media(rick_dia)"
   ]
  },
  {
   "cell_type": "markdown",
   "id": "internal-brazilian",
   "metadata": {},
   "source": [
    "###  Tratando colunas y e z"
   ]
  },
  {
   "cell_type": "markdown",
   "id": "unnecessary-sense",
   "metadata": {},
   "source": [
    "Erro: 1289.9603309540764"
   ]
  },
  {
   "cell_type": "code",
   "execution_count": null,
   "id": "defensive-transformation",
   "metadata": {
    "ExecuteTime": {
     "end_time": "2021-04-29T15:33:37.508916Z",
     "start_time": "2021-04-29T15:33:37.387708Z"
    },
    "cell_style": "split"
   },
   "outputs": [],
   "source": [
    "plt.hist(hist_dia['y']);"
   ]
  },
  {
   "cell_type": "code",
   "execution_count": null,
   "id": "japanese-summer",
   "metadata": {
    "ExecuteTime": {
     "end_time": "2021-04-29T15:33:39.087687Z",
     "start_time": "2021-04-29T15:33:38.954871Z"
    },
    "cell_style": "split"
   },
   "outputs": [],
   "source": [
    "plt.hist(hist_dia['z']);"
   ]
  },
  {
   "cell_type": "code",
   "execution_count": null,
   "id": "passive-laptop",
   "metadata": {
    "ExecuteTime": {
     "end_time": "2021-04-29T15:29:34.368436Z",
     "start_time": "2021-04-29T15:29:34.359462Z"
    }
   },
   "outputs": [],
   "source": [
    "hist_dia.loc[hist_dia['y']>10].shape"
   ]
  },
  {
   "cell_type": "code",
   "execution_count": null,
   "id": "minute-holmes",
   "metadata": {
    "ExecuteTime": {
     "end_time": "2021-04-29T15:29:44.264517Z",
     "start_time": "2021-04-29T15:29:44.253544Z"
    }
   },
   "outputs": [],
   "source": [
    "hist_dia.loc[hist_dia['z']>7].shape"
   ]
  },
  {
   "cell_type": "code",
   "execution_count": null,
   "id": "minus-assault",
   "metadata": {
    "ExecuteTime": {
     "end_time": "2021-04-29T15:31:14.222074Z",
     "start_time": "2021-04-29T15:31:14.213075Z"
    }
   },
   "outputs": [],
   "source": [
    "hist_dia.loc[hist_dia['y']>10, 'y'] = hist_dia['y'].median()\n",
    "hist_dia.loc[hist_dia['z']>7, 'z'] = hist_dia['z'].median()"
   ]
  },
  {
   "cell_type": "code",
   "execution_count": null,
   "id": "individual-norway",
   "metadata": {
    "ExecuteTime": {
     "end_time": "2021-04-29T15:35:37.966180Z",
     "start_time": "2021-04-29T15:35:37.956175Z"
    }
   },
   "outputs": [],
   "source": [
    "X = hist_dia[['carat', 'clar','color_class', 'cut_class', 'x', 'y', 'z']]\n",
    "y = hist_dia['price']"
   ]
  },
  {
   "cell_type": "code",
   "execution_count": null,
   "id": "victorian-istanbul",
   "metadata": {
    "ExecuteTime": {
     "end_time": "2021-04-29T15:35:38.690898Z",
     "start_time": "2021-04-29T15:35:38.670921Z"
    }
   },
   "outputs": [],
   "source": [
    "model_7 = LinearRegression()\n",
    "model_7.fit(X,y)"
   ]
  },
  {
   "cell_type": "code",
   "execution_count": null,
   "id": "congressional-sigma",
   "metadata": {
    "ExecuteTime": {
     "end_time": "2021-04-29T15:35:45.830096Z",
     "start_time": "2021-04-29T15:35:45.822117Z"
    }
   },
   "outputs": [],
   "source": [
    "rick_dia['price_predicted'] = model_7.predict(rick_dia[['carat', 'clar', 'color_class', 'cut_class', 'x', 'y', 'z']])"
   ]
  },
  {
   "cell_type": "code",
   "execution_count": null,
   "id": "extended-express",
   "metadata": {
    "ExecuteTime": {
     "end_time": "2021-04-29T15:35:48.722933Z",
     "start_time": "2021-04-29T15:35:48.257623Z"
    }
   },
   "outputs": [],
   "source": [
    "calcula_erro_media(rick_dia)"
   ]
  },
  {
   "cell_type": "markdown",
   "id": "automatic-confirmation",
   "metadata": {},
   "source": [
    "### Utilizando apenas coluna 'carat'\n",
    "\n",
    "Erro:1605.1517570736253"
   ]
  },
  {
   "cell_type": "code",
   "execution_count": 22,
   "id": "japanese-indonesian",
   "metadata": {
    "ExecuteTime": {
     "end_time": "2021-04-30T14:21:36.130949Z",
     "start_time": "2021-04-30T14:21:35.649119Z"
    }
   },
   "outputs": [
    {
     "data": {
      "text/plain": [
       "<matplotlib.collections.PathCollection at 0x2cd05210220>"
      ]
     },
     "execution_count": 22,
     "metadata": {},
     "output_type": "execute_result"
    },
    {
     "data": {
      "image/png": "[encoded data removed]",
      "text/plain": [
       "<Figure size 432x288 with 1 Axes>"
      ]
     },
     "metadata": {
      "needs_background": "light"
     },
     "output_type": "display_data"
    }
   ],
   "source": [
    "plt.scatter(x='carat', y='price', data=hist_dia)"
   ]
  },
  {
   "cell_type": "code",
   "execution_count": 16,
   "id": "endless-joyce",
   "metadata": {
    "ExecuteTime": {
     "end_time": "2021-04-30T14:40:47.878130Z",
     "start_time": "2021-04-30T14:40:47.865164Z"
    }
   },
   "outputs": [],
   "source": [
    "X = hist_dia[['carat']]\n",
    "y = hist_dia['price']"
   ]
  },
  {
   "cell_type": "code",
   "execution_count": 17,
   "id": "convenient-burst",
   "metadata": {
    "ExecuteTime": {
     "end_time": "2021-04-30T14:40:54.181324Z",
     "start_time": "2021-04-30T14:40:54.163372Z"
    }
   },
   "outputs": [
    {
     "data": {
      "text/plain": [
       "LinearRegression()"
      ]
     },
     "execution_count": 17,
     "metadata": {},
     "output_type": "execute_result"
    }
   ],
   "source": [
    "model_7 = LinearRegression()\n",
    "model_7.fit(X,y)"
   ]
  },
  {
   "cell_type": "code",
   "execution_count": 19,
   "id": "primary-portland",
   "metadata": {
    "ExecuteTime": {
     "end_time": "2021-04-30T14:41:06.627463Z",
     "start_time": "2021-04-30T14:41:06.618480Z"
    }
   },
   "outputs": [],
   "source": [
    "rick_dia['price_predicted'] = model_7.predict(rick_dia[['carat']])"
   ]
  },
  {
   "cell_type": "code",
   "execution_count": 20,
   "id": "functioning-index",
   "metadata": {
    "ExecuteTime": {
     "end_time": "2021-04-30T14:41:08.498833Z",
     "start_time": "2021-04-30T14:41:08.033458Z"
    }
   },
   "outputs": [
    {
     "data": {
      "text/plain": [
       "(13463966.918186825, 0.0)"
      ]
     },
     "execution_count": 20,
     "metadata": {},
     "output_type": "execute_result"
    }
   ],
   "source": [
    "calcula_erro_media(rick_dia)"
   ]
  },
  {
   "cell_type": "markdown",
   "id": "portable-phrase",
   "metadata": {},
   "source": [
    "###  Desconsiderando colunas 'x', 'y' e 'z'\n",
    "\n",
    "Erro: 1294.2985338102117"
   ]
  },
  {
   "cell_type": "code",
   "execution_count": 23,
   "id": "binary-topic",
   "metadata": {
    "ExecuteTime": {
     "end_time": "2021-04-30T14:40:47.878130Z",
     "start_time": "2021-04-30T14:40:47.865164Z"
    }
   },
   "outputs": [],
   "source": [
    "X = hist_dia[['carat', 'clar','color_class', 'cut_class']]\n",
    "y = hist_dia['price']"
   ]
  },
  {
   "cell_type": "code",
   "execution_count": 24,
   "id": "functional-mailing",
   "metadata": {
    "ExecuteTime": {
     "end_time": "2021-04-30T14:40:54.181324Z",
     "start_time": "2021-04-30T14:40:54.163372Z"
    }
   },
   "outputs": [
    {
     "data": {
      "text/plain": [
       "LinearRegression()"
      ]
     },
     "execution_count": 24,
     "metadata": {},
     "output_type": "execute_result"
    }
   ],
   "source": [
    "model_8 = LinearRegression()\n",
    "model_8.fit(X,y)"
   ]
  },
  {
   "cell_type": "code",
   "execution_count": 26,
   "id": "pharmaceutical-knife",
   "metadata": {
    "ExecuteTime": {
     "end_time": "2021-04-30T14:41:06.627463Z",
     "start_time": "2021-04-30T14:41:06.618480Z"
    }
   },
   "outputs": [],
   "source": [
    "rick_dia['price_predicted'] = model_8.predict(rick_dia[['carat', 'clar', 'color_class', 'cut_class']])"
   ]
  },
  {
   "cell_type": "code",
   "execution_count": 27,
   "id": "nonprofit-healthcare",
   "metadata": {
    "ExecuteTime": {
     "end_time": "2021-04-30T14:41:08.498833Z",
     "start_time": "2021-04-30T14:41:08.033458Z"
    }
   },
   "outputs": [
    {
     "data": {
      "text/plain": [
       "(14420145.369480481, 0.0)"
      ]
     },
     "execution_count": 27,
     "metadata": {},
     "output_type": "execute_result"
    }
   ],
   "source": [
    "calcula_erro_media(rick_dia)"
   ]
  },
  {
   "cell_type": "markdown",
   "id": "silent-hardware",
   "metadata": {},
   "source": [
    "###  Utilizando RANSACRegressor\n",
    "\n",
    "Erro: 1572.543723922913"
   ]
  },
  {
   "cell_type": "code",
   "execution_count": 38,
   "id": "seven-decrease",
   "metadata": {
    "ExecuteTime": {
     "end_time": "2021-04-30T15:14:01.085481Z",
     "start_time": "2021-04-30T15:14:01.080488Z"
    }
   },
   "outputs": [],
   "source": [
    "X = hist_dia[['carat', 'clar','color_class', 'cut_class']]\n",
    "y = hist_dia['price']"
   ]
  },
  {
   "cell_type": "code",
   "execution_count": 39,
   "id": "lesbian-grounds",
   "metadata": {
    "ExecuteTime": {
     "end_time": "2021-04-30T15:14:02.134098Z",
     "start_time": "2021-04-30T15:14:02.091213Z"
    }
   },
   "outputs": [
    {
     "data": {
      "text/plain": [
       "RANSACRegressor()"
      ]
     },
     "execution_count": 39,
     "metadata": {},
     "output_type": "execute_result"
    }
   ],
   "source": [
    "model_10 = RANSACRegressor()\n",
    "model_10.fit(X,y)"
   ]
  },
  {
   "cell_type": "code",
   "execution_count": 40,
   "id": "structural-southwest",
   "metadata": {
    "ExecuteTime": {
     "end_time": "2021-04-30T15:14:07.872194Z",
     "start_time": "2021-04-30T15:14:07.864218Z"
    }
   },
   "outputs": [],
   "source": [
    "rick_dia['price_predicted'] = model_10.predict(rick_dia[['carat', 'clar', 'color_class', 'cut_class']])"
   ]
  },
  {
   "cell_type": "code",
   "execution_count": 41,
   "id": "eight-ontario",
   "metadata": {
    "ExecuteTime": {
     "end_time": "2021-04-30T15:14:09.929182Z",
     "start_time": "2021-04-30T15:14:09.435315Z"
    }
   },
   "outputs": [
    {
     "data": {
      "text/plain": [
       "(9759493.685899891, 0.0)"
      ]
     },
     "execution_count": 41,
     "metadata": {},
     "output_type": "execute_result"
    }
   ],
   "source": [
    "calcula_erro_media(rick_dia)"
   ]
  },
  {
   "cell_type": "markdown",
   "id": "minute-terrorist",
   "metadata": {},
   "source": [
    "###  Avaliando relevância das variáveis\n",
    "\n",
    "Erro: 1546.9418079549355"
   ]
  },
  {
   "cell_type": "code",
   "execution_count": 52,
   "id": "later-gravity",
   "metadata": {
    "ExecuteTime": {
     "end_time": "2021-04-30T17:26:24.362487Z",
     "start_time": "2021-04-30T17:26:24.200196Z"
    }
   },
   "outputs": [],
   "source": [
    "from sklearn.preprocessing import StandardScaler\n",
    "\n",
    "scaler = StandardScaler()\n",
    "\n",
    "X = hist_dia[['carat', 'clar','color_class', 'cut_class', 'x', 'y', 'z']]\n",
    "scaler.fit(X)\n",
    "X_std = scaler.transform(X)\n",
    "\n",
    "y = hist_dia['price']"
   ]
  },
  {
   "cell_type": "code",
   "execution_count": 53,
   "id": "closed-active",
   "metadata": {
    "ExecuteTime": {
     "end_time": "2021-04-30T17:26:29.130820Z",
     "start_time": "2021-04-30T17:26:29.102864Z"
    }
   },
   "outputs": [
    {
     "data": {
      "text/plain": [
       "LinearRegression()"
      ]
     },
     "execution_count": 53,
     "metadata": {},
     "output_type": "execute_result"
    }
   ],
   "source": [
    "model_11 = LinearRegression()\n",
    "model_11.fit(X_std,y)"
   ]
  },
  {
   "cell_type": "code",
   "execution_count": 54,
   "id": "occupational-investor",
   "metadata": {
    "ExecuteTime": {
     "end_time": "2021-04-30T17:26:30.774303Z",
     "start_time": "2021-04-30T17:26:30.763306Z"
    }
   },
   "outputs": [
    {
     "data": {
      "text/plain": [
       "array([5028.98044585,  832.86781939,  552.62205825,  177.59005672,\n",
       "       -784.02420824,   76.01261708, -186.47170892])"
      ]
     },
     "execution_count": 54,
     "metadata": {},
     "output_type": "execute_result"
    }
   ],
   "source": [
    "model_11.coef_"
   ]
  },
  {
   "cell_type": "code",
   "execution_count": 57,
   "id": "coupled-greene",
   "metadata": {
    "ExecuteTime": {
     "end_time": "2021-04-30T17:42:36.391636Z",
     "start_time": "2021-04-30T17:42:36.370653Z"
    }
   },
   "outputs": [],
   "source": [
    "X = hist_dia[['carat', 'color_class', 'y']]\n",
    "y = hist_dia['price']"
   ]
  },
  {
   "cell_type": "code",
   "execution_count": 58,
   "id": "instant-license",
   "metadata": {
    "ExecuteTime": {
     "end_time": "2021-04-30T17:42:37.052845Z",
     "start_time": "2021-04-30T17:42:37.029874Z"
    }
   },
   "outputs": [
    {
     "data": {
      "text/plain": [
       "LinearRegression()"
      ]
     },
     "execution_count": 58,
     "metadata": {},
     "output_type": "execute_result"
    }
   ],
   "source": [
    "model_11 = LinearRegression()\n",
    "model_11.fit(X,y)"
   ]
  },
  {
   "cell_type": "code",
   "execution_count": 60,
   "id": "greatest-alias",
   "metadata": {
    "ExecuteTime": {
     "end_time": "2021-04-30T17:42:48.085054Z",
     "start_time": "2021-04-30T17:42:48.072086Z"
    }
   },
   "outputs": [],
   "source": [
    "rick_dia['price_predicted'] = model_11.predict(rick_dia[['carat', 'color_class', 'y']])"
   ]
  },
  {
   "cell_type": "code",
   "execution_count": 61,
   "id": "spectacular-coach",
   "metadata": {
    "ExecuteTime": {
     "end_time": "2021-04-30T17:42:49.853726Z",
     "start_time": "2021-04-30T17:42:49.329124Z"
    }
   },
   "outputs": [
    {
     "data": {
      "text/plain": [
       "(13671055.060045162, 0.0)"
      ]
     },
     "execution_count": 61,
     "metadata": {},
     "output_type": "execute_result"
    }
   ],
   "source": [
    "calcula_erro_media(rick_dia)"
   ]
  },
  {
   "cell_type": "markdown",
   "id": "corporate-progress",
   "metadata": {},
   "source": [
    "##  Salvando .csv"
   ]
  },
  {
   "cell_type": "code",
   "execution_count": 62,
   "id": "preliminary-stroke",
   "metadata": {
    "ExecuteTime": {
     "end_time": "2021-04-30T17:42:53.737448Z",
     "start_time": "2021-04-30T17:42:53.692538Z"
    }
   },
   "outputs": [],
   "source": [
    "rick_dia[['carat', 'cut', 'color', 'clarity', 'depth', 'table', 'x', 'y', 'z', 'price_predicted']].to_csv('data/rick_dia_resposta.csv', index=False)"
   ]
  }
 ],
 "metadata": {
  "kernelspec": {
   "display_name": "Python 3",
   "language": "python",
   "name": "python3"
  },
  "language_info": {
   "codemirror_mode": {
    "name": "ipython",
    "version": 3
   },
   "file_extension": ".py",
   "mimetype": "text/x-python",
   "name": "python",
   "nbconvert_exporter": "python",
   "pygments_lexer": "ipython3",
   "version": "3.8.8"
  },
  "toc": {
   "base_numbering": 1,
   "nav_menu": {},
   "number_sections": true,
   "sideBar": true,
   "skip_h1_title": false,
   "title_cell": "Table of Contents",
   "title_sidebar": "Contents",
   "toc_cell": false,
   "toc_position": {},
   "toc_section_display": true,
   "toc_window_display": false
  },
  "varInspector": {
   "cols": {
    "lenName": 16,
    "lenType": 16,
    "lenVar": 40
   },
   "kernels_config": {
    "python": {
     "delete_cmd_postfix": "",
     "delete_cmd_prefix": "del ",
     "library": "var_list.py",
     "varRefreshCmd": "print(var_dic_list())"
    },
    "r": {
     "delete_cmd_postfix": ") ",
     "delete_cmd_prefix": "rm(",
     "library": "var_list.r",
     "varRefreshCmd": "cat(var_dic_list()) "
    }
   },
   "types_to_exclude": [
    "module",
    "function",
    "builtin_function_or_method",
    "instance",
    "_Feature"
   ],
   "window_display": false
  }
 },
 "nbformat": 4,
 "nbformat_minor": 5
}
