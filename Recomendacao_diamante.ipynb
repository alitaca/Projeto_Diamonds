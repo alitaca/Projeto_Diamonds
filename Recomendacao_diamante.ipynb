{
 "cells": [
  {
   "cell_type": "markdown",
   "id": "searching-playback",
   "metadata": {},
   "source": [
    "#  Projeto Diamond - Sistema de recomendação"
   ]
  },
  {
   "cell_type": "markdown",
   "id": "boring-output",
   "metadata": {},
   "source": [
    "## Preparando os dados"
   ]
  },
  {
   "cell_type": "code",
   "execution_count": 1,
   "id": "effective-rebate",
   "metadata": {
    "ExecuteTime": {
     "end_time": "2021-04-30T18:37:01.840906Z",
     "start_time": "2021-04-30T18:36:52.498946Z"
    }
   },
   "outputs": [],
   "source": [
    "# importando as bibliotecas\n",
    "import pandas as pd\n",
    "import numpy as np\n",
    "import matplotlib.pyplot as plt\n",
    "\n",
    "from tqdm import tqdm\n",
    "\n",
    "from scipy.spatial.distance import cdist"
   ]
  },
  {
   "cell_type": "code",
   "execution_count": 2,
   "id": "narrow-findings",
   "metadata": {
    "ExecuteTime": {
     "end_time": "2021-04-30T18:37:02.079422Z",
     "start_time": "2021-04-30T18:37:01.960966Z"
    }
   },
   "outputs": [],
   "source": [
    "# importando dados a serem avaliados\n",
    "rick_dia = pd.read_csv('data/rick_diamonds.csv')"
   ]
  },
  {
   "cell_type": "markdown",
   "id": "higher-script",
   "metadata": {
    "ExecuteTime": {
     "end_time": "2021-04-29T15:26:00.155535Z",
     "start_time": "2021-04-29T15:26:00.098509Z"
    }
   },
   "source": [
    "rick_dia.describe()"
   ]
  },
  {
   "cell_type": "markdown",
   "id": "rational-attraction",
   "metadata": {
    "ExecuteTime": {
     "end_time": "2021-04-29T15:34:31.082726Z",
     "start_time": "2021-04-29T15:34:30.949004Z"
    }
   },
   "source": [
    "plt.hist(rick_dia['z']);"
   ]
  },
  {
   "cell_type": "code",
   "execution_count": 3,
   "id": "brazilian-possible",
   "metadata": {
    "ExecuteTime": {
     "end_time": "2021-04-30T18:37:07.441146Z",
     "start_time": "2021-04-30T18:37:07.273468Z"
    }
   },
   "outputs": [],
   "source": [
    "# importando os dados de treinamento do algoritmo\n",
    "hist_dia = pd.read_csv('data/diamonds.csv')"
   ]
  },
  {
   "cell_type": "code",
   "execution_count": 4,
   "id": "prescription-contributor",
   "metadata": {
    "ExecuteTime": {
     "end_time": "2021-04-30T18:37:07.850267Z",
     "start_time": "2021-04-30T18:37:07.818777Z"
    }
   },
   "outputs": [],
   "source": [
    "# Transformando strings da coluna 'clarity' em inteiros discretos\n",
    "clarity_order = {'I1': 0, 'SI2': 1, 'SI1': 2, 'VS2': 3, 'VS1': 4, 'VVS2': 5, 'VVS1': 6, 'IF': 7}\n",
    "\n",
    "hist_dia['clar'] = hist_dia['clarity'].apply(lambda x: clarity_order[x])\n",
    "rick_dia['clar'] = rick_dia['clarity'].apply(lambda x: clarity_order[x])"
   ]
  },
  {
   "cell_type": "code",
   "execution_count": 5,
   "id": "accurate-shock",
   "metadata": {
    "ExecuteTime": {
     "end_time": "2021-04-30T18:37:08.445162Z",
     "start_time": "2021-04-30T18:37:08.406267Z"
    }
   },
   "outputs": [],
   "source": [
    "# Transformando strings da coluna 'color' em inteiros discretos\n",
    "color_order = {'J': 0, 'I': 1, 'H': 2, 'G': 3, 'F': 4, 'E': 5, 'D': 6}\n",
    "\n",
    "hist_dia['color_class'] = hist_dia['color'].apply(lambda x: color_order[x])\n",
    "rick_dia['color_class'] = rick_dia['color'].apply(lambda x: color_order[x])"
   ]
  },
  {
   "cell_type": "code",
   "execution_count": 6,
   "id": "numerical-dryer",
   "metadata": {
    "ExecuteTime": {
     "end_time": "2021-04-30T18:37:09.180340Z",
     "start_time": "2021-04-30T18:37:09.136456Z"
    }
   },
   "outputs": [],
   "source": [
    "# Transformando strings da coluna 'cut' em inteiros discretos\n",
    "cut_order = {'Fair': 0, 'Good': 1, 'Very Good': 2, 'Premium': 3, 'Ideal': 4}\n",
    "\n",
    "hist_dia['cut_class'] = hist_dia['cut'].apply(lambda x: cut_order[x])\n",
    "rick_dia['cut_class'] = rick_dia['cut'].apply(lambda x: cut_order[x])"
   ]
  },
  {
   "cell_type": "markdown",
   "id": "internal-indie",
   "metadata": {},
   "source": [
    "## Primeiro sistema de recomendação\n",
    "\n",
    "head: 1\n",
    "\n",
    "Erro: 1019.28957747541"
   ]
  },
  {
   "cell_type": "markdown",
   "id": "theoretical-mitchell",
   "metadata": {
    "ExecuteTime": {
     "end_time": "2021-04-29T22:36:54.385675Z",
     "start_time": "2021-04-29T22:36:54.367456Z"
    }
   },
   "source": [
    "def find_sim(df):\n",
    "    ''' Esta funcao recebe uma linha do dataset a ser previsto e retorna um valor de preco igual\n",
    "        ao preco da linha do dataset de treinamento mais proxima, de acordo com a distancia\n",
    "        euclidiana.\n",
    "        \n",
    "        Input:\n",
    "            df - dataframe linha do dataset a ser previsto\n",
    "        Output:\n",
    "            recommendation - float preco recomendado\n",
    "    '''\n",
    "    \n",
    "    distance_vector = cdist(hist_dia.drop(['price', 'clarity', 'color', 'cut'], axis=1),df)\n",
    "\n",
    "    similarities = 1 / (1 + distance_vector)\n",
    "\n",
    "    similarity_index = pd.DataFrame(similarities, \n",
    "                                    index=hist_dia.index)\n",
    "    recommendation = hist_dia.loc[similarity_index.sort_values(by=0, ascending=False).head(1).index, 'price'].mean()\n",
    "    \n",
    "    return recommendation"
   ]
  },
  {
   "cell_type": "markdown",
   "id": "blocked-germany",
   "metadata": {
    "ExecuteTime": {
     "end_time": "2021-04-29T22:48:02.701440Z",
     "start_time": "2021-04-29T22:46:57.871122Z"
    }
   },
   "source": [
    "recom_price = []\n",
    "\n",
    "try:\n",
    "    rick_dia = rick_dia.drop('price_predicted', axis=1)\n",
    "except:\n",
    "    pass\n",
    "\n",
    "for i in tqdm(range(len(rick_dia))):\n",
    "    recom_price.append(find_sim(rick_dia[i:i+1].drop(['clarity', 'color', 'cut'], axis=1)))"
   ]
  },
  {
   "cell_type": "markdown",
   "id": "brave-likelihood",
   "metadata": {
    "ExecuteTime": {
     "end_time": "2021-04-29T22:48:19.210145Z",
     "start_time": "2021-04-29T22:48:19.195199Z"
    }
   },
   "source": [
    "rick_dia = pd.concat([rick_dia, pd.DataFrame({'price_predicted': recom_price})], axis=1)"
   ]
  },
  {
   "cell_type": "markdown",
   "id": "assisted-inside",
   "metadata": {},
   "source": [
    "## Testando mais heads\n",
    "\n",
    "head: 5\n",
    "\n",
    "Erro: 861.832306397248"
   ]
  },
  {
   "cell_type": "markdown",
   "id": "federal-boston",
   "metadata": {
    "ExecuteTime": {
     "end_time": "2021-04-30T12:14:43.162728Z",
     "start_time": "2021-04-30T12:14:43.150760Z"
    }
   },
   "source": [
    "def find_sim_5(df):\n",
    "    ''' Esta funcao recebe uma linha do dataset a ser previsto e retorna um valor de preco igual a\n",
    "        media dos precos das 5 linhas do dataset de treinamento mais proximas, de acordo com a distancia\n",
    "        euclidiana.\n",
    "        \n",
    "        Input:\n",
    "            df - dataframe linha do dataset a ser previsto\n",
    "        Output:\n",
    "            recommendation - float preco recomendado\n",
    "    '''\n",
    "    \n",
    "    distance_vector = cdist(hist_dia.drop(['price', 'clarity', 'color', 'cut'], axis=1), df)\n",
    "\n",
    "    similarities = 1 / (1 + distance_vector)\n",
    "\n",
    "    similarity_index = pd.DataFrame(similarities, \n",
    "                                    index=hist_dia.index)\n",
    "    recommendation = hist_dia.loc[similarity_index.sort_values(by=0, ascending=False).head(5).index, 'price'].mean()\n",
    "    \n",
    "    return recommendation"
   ]
  },
  {
   "cell_type": "markdown",
   "id": "wicked-parks",
   "metadata": {
    "ExecuteTime": {
     "end_time": "2021-04-30T12:17:18.833762Z",
     "start_time": "2021-04-30T12:15:52.170174Z"
    }
   },
   "source": [
    "recom_price = []\n",
    "\n",
    "try:\n",
    "    rick_dia = rick_dia.drop('price_predicted', axis=1)\n",
    "except:\n",
    "    pass\n",
    "\n",
    "for i in tqdm(range(len(rick_dia))):\n",
    "    recom_price.append(find_sim_5(rick_dia[i:i+1].drop(['clarity', 'color', 'cut'], axis=1)))"
   ]
  },
  {
   "cell_type": "markdown",
   "id": "associate-water",
   "metadata": {
    "ExecuteTime": {
     "end_time": "2021-04-30T12:22:34.776160Z",
     "start_time": "2021-04-30T12:22:34.767186Z"
    }
   },
   "source": [
    "rick_dia = pd.concat([rick_dia, pd.DataFrame({'price_predicted': recom_price})], axis=1)"
   ]
  },
  {
   "cell_type": "markdown",
   "id": "mature-variation",
   "metadata": {},
   "source": [
    "## Utilizando menos colunas\n",
    "Retirando colunas 'depth' e 'table' do algoritmo\n",
    "\n",
    "head: 5\n",
    "\n",
    "Erro: 613.8702581735004"
   ]
  },
  {
   "cell_type": "code",
   "execution_count": null,
   "id": "compact-candle",
   "metadata": {
    "ExecuteTime": {
     "end_time": "2021-04-30T12:29:53.240113Z",
     "start_time": "2021-04-30T12:29:53.213158Z"
    }
   },
   "outputs": [],
   "source": [
    "hist_dia.head()"
   ]
  },
  {
   "cell_type": "code",
   "execution_count": null,
   "id": "critical-briefing",
   "metadata": {
    "ExecuteTime": {
     "end_time": "2021-04-30T13:01:42.148327Z",
     "start_time": "2021-04-30T13:01:42.134364Z"
    }
   },
   "outputs": [],
   "source": [
    "def find_sim_col5(df):\n",
    "    ''' Esta funcao recebe uma linha do dataset a ser previsto e retorna um valor de preco igual a\n",
    "        media dos precos das 5 linhas do dataset de treinamento mais proximas, de acordo com a distancia\n",
    "        euclidiana. Este metodo desconsidera as colunas 'depth' e 'table'\n",
    "        \n",
    "        Input:\n",
    "            df - dataframe linha do dataset a ser previsto\n",
    "        Output:\n",
    "            recommendation - float preco recomendado\n",
    "    '''\n",
    "    \n",
    "    distance_vector = cdist(hist_dia.drop(['price', 'clarity', 'color', 'cut', 'depth', 'table'], axis=1), df)\n",
    "\n",
    "    similarities = 1 / (1 + distance_vector)\n",
    "\n",
    "    similarity_index = pd.DataFrame(similarities, \n",
    "                                    index=hist_dia.index)\n",
    "    recommendation = hist_dia.loc[similarity_index.sort_values(by=0, ascending=False).head(5).index, 'price'].mean()\n",
    "    \n",
    "    return recommendation"
   ]
  },
  {
   "cell_type": "code",
   "execution_count": null,
   "id": "surgical-guess",
   "metadata": {
    "ExecuteTime": {
     "end_time": "2021-04-30T13:03:00.470844Z",
     "start_time": "2021-04-30T13:01:56.426694Z"
    }
   },
   "outputs": [],
   "source": [
    "recom_price = []\n",
    "\n",
    "try:\n",
    "    rick_dia = rick_dia.drop('price_predicted', axis=1)\n",
    "except:\n",
    "    pass\n",
    "\n",
    "for i in tqdm(range(len(rick_dia))):\n",
    "    recom_price.append(find_sim_col5(rick_dia[i:i+1].drop(['clarity', 'color', 'cut', 'depth', 'table'], axis=1)))"
   ]
  },
  {
   "cell_type": "code",
   "execution_count": null,
   "id": "accessible-fisher",
   "metadata": {
    "ExecuteTime": {
     "end_time": "2021-04-30T13:03:04.448197Z",
     "start_time": "2021-04-30T13:03:04.441218Z"
    }
   },
   "outputs": [],
   "source": [
    "rick_dia = pd.concat([rick_dia, pd.DataFrame({'price_predicted': recom_price})], axis=1)"
   ]
  },
  {
   "cell_type": "markdown",
   "id": "terminal-stewart",
   "metadata": {},
   "source": [
    "## Usando métrica de Hamming\n",
    "head: 5\n",
    "\n",
    "Erro: 1546.7734066695095"
   ]
  },
  {
   "cell_type": "markdown",
   "id": "printable-maximum",
   "metadata": {
    "ExecuteTime": {
     "end_time": "2021-04-30T12:52:36.545956Z",
     "start_time": "2021-04-30T12:52:36.527024Z"
    }
   },
   "source": [
    "def find_sim_ham5(df):\n",
    "    ''' Esta funcao recebe uma linha do dataset a ser previsto e retorna um valor de preco igual a\n",
    "        media dos precos das 5 linhas do dataset de treinamento mais proximas, de acordo com a distancia\n",
    "        de Hamming. Este metodo desconsidera as colunas 'depth' e 'table'\n",
    "        \n",
    "        Input:\n",
    "            df - dataframe linha do dataset a ser previsto\n",
    "        Output:\n",
    "            recommendation - float preco recomendado\n",
    "    '''\n",
    "    \n",
    "    distance_vector = cdist(hist_dia.drop(['price', 'clarity', 'color', 'cut', 'depth', 'table'], axis=1), df, metric='hamming')\n",
    "\n",
    "    similarities = 1 / (1 + distance_vector)\n",
    "\n",
    "    similarity_index = pd.DataFrame(similarities, \n",
    "                                    index=hist_dia.index)\n",
    "    recommendation = hist_dia.loc[similarity_index.sort_values(by=0, ascending=False).head(5).index, 'price'].mean()\n",
    "    \n",
    "    return recommendation"
   ]
  },
  {
   "cell_type": "markdown",
   "id": "revised-morrison",
   "metadata": {
    "ExecuteTime": {
     "end_time": "2021-04-30T12:53:51.513267Z",
     "start_time": "2021-04-30T12:52:43.237420Z"
    }
   },
   "source": [
    "recom_price = []\n",
    "\n",
    "try:\n",
    "    rick_dia = rick_dia.drop('price_predicted', axis=1)\n",
    "except:\n",
    "    pass\n",
    "\n",
    "for i in tqdm(range(len(rick_dia))):\n",
    "    recom_price.append(find_sim_ham5(rick_dia[i:i+1].drop(['clarity', 'color', 'cut', 'depth', 'table'], axis=1)))"
   ]
  },
  {
   "cell_type": "markdown",
   "id": "enhanced-ridge",
   "metadata": {
    "ExecuteTime": {
     "end_time": "2021-04-30T12:53:54.691008Z",
     "start_time": "2021-04-30T12:53:54.683036Z"
    }
   },
   "source": [
    "rick_dia = pd.concat([rick_dia, pd.DataFrame({'price_predicted': recom_price})], axis=1)"
   ]
  },
  {
   "cell_type": "markdown",
   "id": "acquired-heating",
   "metadata": {},
   "source": [
    "## Usando métrica de Manhattan\n",
    "head: 5\n",
    "\n",
    "Erro: 1447.6820124115654"
   ]
  },
  {
   "cell_type": "code",
   "execution_count": null,
   "id": "guided-missouri",
   "metadata": {
    "ExecuteTime": {
     "end_time": "2021-04-30T14:12:36.375666Z",
     "start_time": "2021-04-30T14:12:36.369680Z"
    }
   },
   "outputs": [],
   "source": [
    "def find_sim_man5(df):\n",
    "    ''' Esta funcao recebe uma linha do dataset a ser previsto e retorna um valor de preco igual a\n",
    "        media dos precos das 5 linhas do dataset de treinamento mais proximas, de acordo com a distancia\n",
    "        de Manhattan. Este metodo desconsidera as colunas 'depth' e 'table'\n",
    "        \n",
    "        Input:\n",
    "            df - dataframe linha do dataset a ser previsto\n",
    "        Output:\n",
    "            recommendation - float preco recomendado\n",
    "    '''\n",
    "    \n",
    "    distance_vector = cdist(hist_dia.drop(['price', 'clarity', 'color', 'cut', 'depth', 'table'], axis=1), df, metric='cityblock')\n",
    "\n",
    "    similarities = 1 / (1 + distance_vector)\n",
    "\n",
    "    similarity_index = pd.DataFrame(similarities, \n",
    "                                    index=hist_dia.index)\n",
    "    recommendation = hist_dia.loc[similarity_index.sort_values(by=0, ascending=False).head(5).index, 'price'].mean()\n",
    "    \n",
    "    return recommendation"
   ]
  },
  {
   "cell_type": "code",
   "execution_count": null,
   "id": "agreed-blackberry",
   "metadata": {
    "ExecuteTime": {
     "end_time": "2021-04-30T14:13:56.045806Z",
     "start_time": "2021-04-30T14:12:48.871041Z"
    }
   },
   "outputs": [],
   "source": [
    "recom_price = []\n",
    "\n",
    "try:\n",
    "    rick_dia = rick_dia.drop('price_predicted', axis=1)\n",
    "except:\n",
    "    pass\n",
    "\n",
    "for i in tqdm(range(len(rick_dia))):\n",
    "    recom_price.append(find_sim_man5(rick_dia[i:i+1].drop(['clarity', 'color', 'cut', 'depth', 'table'], axis=1)))"
   ]
  },
  {
   "cell_type": "code",
   "execution_count": null,
   "id": "eastern-circuit",
   "metadata": {
    "ExecuteTime": {
     "end_time": "2021-04-30T12:53:54.691008Z",
     "start_time": "2021-04-30T12:53:54.683036Z"
    }
   },
   "outputs": [],
   "source": [
    "rick_dia = pd.concat([rick_dia, pd.DataFrame({'price_predicted': recom_price})], axis=1)"
   ]
  },
  {
   "cell_type": "markdown",
   "id": "honey-angel",
   "metadata": {},
   "source": [
    "## Cortando colunas categóricas\n",
    "Retirando colunas 'depth', 'table', 'cut', 'color', 'clarity' do algoritmo\n",
    "\n",
    "head: 5\n",
    "\n",
    "Erro: 1447.6820124115654"
   ]
  },
  {
   "cell_type": "markdown",
   "id": "fitting-teens",
   "metadata": {
    "ExecuteTime": {
     "end_time": "2021-04-30T14:06:48.704885Z",
     "start_time": "2021-04-30T14:06:48.616581Z"
    }
   },
   "source": [
    "hist_dia.head()"
   ]
  },
  {
   "cell_type": "markdown",
   "id": "incorporated-google",
   "metadata": {
    "ExecuteTime": {
     "end_time": "2021-04-30T14:07:26.320547Z",
     "start_time": "2021-04-30T14:07:26.310562Z"
    }
   },
   "source": [
    "def find_sim_num5(df):\n",
    "    ''' Esta funcao recebe uma linha do dataset a ser previsto e retorna um valor de preco igual a\n",
    "        media dos precos das 5 linhas do dataset de treinamento mais proximas, de acordo com a distancia\n",
    "        euclidiana. Este metodo desconsidera as colunas 'depth' e 'table'\n",
    "        \n",
    "        Input:\n",
    "            df - dataframe linha do dataset a ser previsto\n",
    "        Output:\n",
    "            recommendation - float preco recomendado\n",
    "    '''\n",
    "    \n",
    "    distance_vector = cdist(hist_dia.drop(['price', 'clarity', 'color', 'cut', 'depth', 'table', 'clar', 'color_class', 'cut_class'], axis=1), df)\n",
    "\n",
    "    similarities = 1 / (1 + distance_vector)\n",
    "\n",
    "    similarity_index = pd.DataFrame(similarities, \n",
    "                                    index=hist_dia.index)\n",
    "    recommendation = hist_dia.loc[similarity_index.sort_values(by=0, ascending=False).head(5).index, 'price'].mean()\n",
    "    \n",
    "    return recommendation"
   ]
  },
  {
   "cell_type": "markdown",
   "id": "employed-atlantic",
   "metadata": {
    "ExecuteTime": {
     "end_time": "2021-04-30T14:08:23.858467Z",
     "start_time": "2021-04-30T14:07:27.127292Z"
    }
   },
   "source": [
    "recom_price = []\n",
    "\n",
    "try:\n",
    "    rick_dia = rick_dia.drop('price_predicted', axis=1)\n",
    "except:\n",
    "    pass\n",
    "\n",
    "for i in tqdm(range(len(rick_dia))):\n",
    "    recom_price.append(find_sim_num5(rick_dia[i:i+1].drop(['clarity', 'color', 'cut', 'depth', 'table', 'clar', 'color_class', 'cut_class'], axis=1)))"
   ]
  },
  {
   "cell_type": "markdown",
   "id": "motivated-wells",
   "metadata": {
    "ExecuteTime": {
     "end_time": "2021-04-30T14:08:43.730930Z",
     "start_time": "2021-04-30T14:08:43.705992Z"
    }
   },
   "source": [
    "rick_dia = pd.concat([rick_dia, pd.DataFrame({'price_predicted': recom_price})], axis=1)"
   ]
  },
  {
   "cell_type": "markdown",
   "id": "registered-dancing",
   "metadata": {},
   "source": [
    "##  Cortando colunas 'x', 'y' e 'z'\n",
    "\n",
    "head: 5\n",
    "\n",
    "Erro: 689.2085874465001"
   ]
  },
  {
   "cell_type": "code",
   "execution_count": null,
   "id": "catholic-abuse",
   "metadata": {
    "ExecuteTime": {
     "end_time": "2021-04-30T14:44:07.685042Z",
     "start_time": "2021-04-30T14:44:07.681054Z"
    }
   },
   "outputs": [],
   "source": [
    "def find_sim_xyz5(df):\n",
    "    ''' Esta funcao recebe uma linha do dataset a ser previsto e retorna um valor de preco igual a\n",
    "        media dos precos das 5 linhas do dataset de treinamento mais proximas, de acordo com a distancia\n",
    "        euclidiana. Este metodo desconsidera as colunas 'depth' e 'table'\n",
    "        \n",
    "        Input:\n",
    "            df - dataframe linha do dataset a ser previsto\n",
    "        Output:\n",
    "            recommendation - float preco recomendado\n",
    "    '''\n",
    "    \n",
    "    distance_vector = cdist(hist_dia.drop(['price', 'clarity', 'color', 'cut', 'depth', 'table', 'x', 'y', 'z'], axis=1), df)\n",
    "\n",
    "    similarities = 1 / (1 + distance_vector)\n",
    "\n",
    "    similarity_index = pd.DataFrame(similarities, \n",
    "                                    index=hist_dia.index)\n",
    "    recommendation = hist_dia.loc[similarity_index.sort_values(by=0, ascending=False).head(5).index, 'price'].mean()\n",
    "    \n",
    "    return recommendation"
   ]
  },
  {
   "cell_type": "code",
   "execution_count": null,
   "id": "tough-vehicle",
   "metadata": {
    "ExecuteTime": {
     "end_time": "2021-04-30T14:45:19.494190Z",
     "start_time": "2021-04-30T14:44:21.483470Z"
    }
   },
   "outputs": [],
   "source": [
    "recom_price = []\n",
    "\n",
    "try:\n",
    "    rick_dia = rick_dia.drop('price_predicted', axis=1)\n",
    "except:\n",
    "    pass\n",
    "\n",
    "for i in tqdm(range(len(rick_dia))):\n",
    "    recom_price.append(find_sim_xyz5(rick_dia[i:i+1].drop(['clarity', 'color', 'cut', 'depth', 'table', 'x', 'y', 'z'], axis=1)))"
   ]
  },
  {
   "cell_type": "code",
   "execution_count": null,
   "id": "comprehensive-humanity",
   "metadata": {
    "ExecuteTime": {
     "end_time": "2021-04-30T14:48:31.357327Z",
     "start_time": "2021-04-30T14:48:31.347341Z"
    }
   },
   "outputs": [],
   "source": [
    "rick_dia = pd.concat([rick_dia, pd.DataFrame({'price_predicted': recom_price})], axis=1)"
   ]
  },
  {
   "cell_type": "markdown",
   "id": "necessary-decline",
   "metadata": {},
   "source": [
    "## Mudando a função de agregação\n",
    "Retirando colunas 'depth' e 'table' do algoritmo. Aplicando função máximo.\n",
    "\n",
    "head: 5\n",
    "\n",
    "Erro: 966.9392524869388"
   ]
  },
  {
   "cell_type": "code",
   "execution_count": null,
   "id": "raised-greeting",
   "metadata": {
    "ExecuteTime": {
     "end_time": "2021-04-30T14:55:07.089033Z",
     "start_time": "2021-04-30T14:55:07.082052Z"
    }
   },
   "outputs": [],
   "source": [
    "def find_sim_max5(df):\n",
    "    ''' Esta funcao recebe uma linha do dataset a ser previsto e retorna um valor de preco igual a\n",
    "        media dos precos das 5 linhas do dataset de treinamento mais proximas, de acordo com a distancia\n",
    "        euclidiana. Este metodo desconsidera as colunas 'depth' e 'table'\n",
    "        \n",
    "        Input:\n",
    "            df - dataframe linha do dataset a ser previsto\n",
    "        Output:\n",
    "            recommendation - float preco recomendado\n",
    "    '''\n",
    "    \n",
    "    distance_vector = cdist(hist_dia.drop(['price', 'clarity', 'color', 'cut', 'depth', 'table'], axis=1), df)\n",
    "\n",
    "    similarities = 1 / (1 + distance_vector)\n",
    "\n",
    "    similarity_index = pd.DataFrame(similarities, \n",
    "                                    index=hist_dia.index)\n",
    "    recommendation = hist_dia.loc[similarity_index.sort_values(by=0, ascending=False).head(5).index, 'price'].max()\n",
    "    \n",
    "    return recommendation"
   ]
  },
  {
   "cell_type": "code",
   "execution_count": null,
   "id": "affiliated-course",
   "metadata": {
    "ExecuteTime": {
     "end_time": "2021-04-30T14:56:26.103406Z",
     "start_time": "2021-04-30T14:55:15.209798Z"
    }
   },
   "outputs": [],
   "source": [
    "recom_price = []\n",
    "\n",
    "try:\n",
    "    rick_dia = rick_dia.drop('price_predicted', axis=1)\n",
    "except:\n",
    "    pass\n",
    "\n",
    "for i in tqdm(range(len(rick_dia))):\n",
    "    recom_price.append(find_sim_max5(rick_dia[i:i+1].drop(['clarity', 'color', 'cut', 'depth', 'table'], axis=1)))"
   ]
  },
  {
   "cell_type": "code",
   "execution_count": null,
   "id": "harmful-advertiser",
   "metadata": {
    "ExecuteTime": {
     "end_time": "2021-04-30T14:57:06.224657Z",
     "start_time": "2021-04-30T14:57:06.215685Z"
    }
   },
   "outputs": [],
   "source": [
    "rick_dia = pd.concat([rick_dia, pd.DataFrame({'price_predicted': recom_price})], axis=1)"
   ]
  },
  {
   "cell_type": "markdown",
   "id": "common-protocol",
   "metadata": {},
   "source": [
    "## Mudando a função de agregação\n",
    "Retirando colunas 'depth' e 'table' do algoritmo. Aplicando função mediana.\n",
    "\n",
    "head: 5\n",
    "\n",
    "Erro: 643.7355361481918"
   ]
  },
  {
   "cell_type": "code",
   "execution_count": null,
   "id": "improving-norfolk",
   "metadata": {
    "ExecuteTime": {
     "end_time": "2021-04-30T14:58:08.124095Z",
     "start_time": "2021-04-30T14:58:08.119104Z"
    }
   },
   "outputs": [],
   "source": [
    "def find_sim_med5(df):\n",
    "    ''' Esta funcao recebe uma linha do dataset a ser previsto e retorna um valor de preco igual a\n",
    "        media dos precos das 5 linhas do dataset de treinamento mais proximas, de acordo com a distancia\n",
    "        euclidiana. Este metodo desconsidera as colunas 'depth' e 'table'\n",
    "        \n",
    "        Input:\n",
    "            df - dataframe linha do dataset a ser previsto\n",
    "        Output:\n",
    "            recommendation - float preco recomendado\n",
    "    '''\n",
    "    \n",
    "    distance_vector = cdist(hist_dia.drop(['price', 'clarity', 'color', 'cut', 'depth', 'table'], axis=1), df)\n",
    "\n",
    "    similarities = 1 / (1 + distance_vector)\n",
    "\n",
    "    similarity_index = pd.DataFrame(similarities, \n",
    "                                    index=hist_dia.index)\n",
    "    recommendation = hist_dia.loc[similarity_index.sort_values(by=0, ascending=False).head(5).index, 'price'].median()\n",
    "    \n",
    "    return recommendation"
   ]
  },
  {
   "cell_type": "code",
   "execution_count": null,
   "id": "outdoor-method",
   "metadata": {
    "ExecuteTime": {
     "end_time": "2021-04-30T14:59:20.831215Z",
     "start_time": "2021-04-30T14:58:14.502033Z"
    }
   },
   "outputs": [],
   "source": [
    "recom_price = []\n",
    "\n",
    "try:\n",
    "    rick_dia = rick_dia.drop('price_predicted', axis=1)\n",
    "except:\n",
    "    pass\n",
    "\n",
    "for i in tqdm(range(len(rick_dia))):\n",
    "    recom_price.append(find_sim_med5(rick_dia[i:i+1].drop(['clarity', 'color', 'cut', 'depth', 'table'], axis=1)))"
   ]
  },
  {
   "cell_type": "code",
   "execution_count": null,
   "id": "crazy-extraction",
   "metadata": {
    "ExecuteTime": {
     "end_time": "2021-04-30T15:16:15.721428Z",
     "start_time": "2021-04-30T15:16:15.714454Z"
    }
   },
   "outputs": [],
   "source": [
    "rick_dia = pd.concat([rick_dia, pd.DataFrame({'price_predicted': recom_price})], axis=1)"
   ]
  },
  {
   "cell_type": "markdown",
   "id": "protected-stationery",
   "metadata": {},
   "source": [
    "## Usando métrica de cosenos\n",
    "head: 5\n",
    "\n",
    "Erro: 699.3044647791119"
   ]
  },
  {
   "cell_type": "code",
   "execution_count": null,
   "id": "digital-moment",
   "metadata": {
    "ExecuteTime": {
     "end_time": "2021-04-30T18:19:51.179763Z",
     "start_time": "2021-04-30T18:19:51.166797Z"
    }
   },
   "outputs": [],
   "source": [
    "def find_sim_cos5(df):\n",
    "    ''' Esta funcao recebe uma linha do dataset a ser previsto e retorna um valor de preco igual a\n",
    "        media dos precos das 5 linhas do dataset de treinamento mais proximas, de acordo com a distancia\n",
    "        de Manhattan. Este metodo desconsidera as colunas 'depth' e 'table'\n",
    "        \n",
    "        Input:\n",
    "            df - dataframe linha do dataset a ser previsto\n",
    "        Output:\n",
    "            recommendation - float preco recomendado\n",
    "    '''\n",
    "    \n",
    "    distance_vector = cdist(hist_dia.drop(['price', 'clarity', 'color', 'cut', 'depth', 'table'], axis=1), df, metric='cosine')\n",
    "\n",
    "    similarities = 1 / (1 + distance_vector)\n",
    "\n",
    "    similarity_index = pd.DataFrame(similarities, \n",
    "                                    index=hist_dia.index)\n",
    "    recommendation = hist_dia.loc[similarity_index.sort_values(by=0, ascending=False).head(5).index, 'price'].mean()\n",
    "    \n",
    "    return recommendation"
   ]
  },
  {
   "cell_type": "code",
   "execution_count": null,
   "id": "protected-community",
   "metadata": {
    "ExecuteTime": {
     "end_time": "2021-04-30T18:22:20.515701Z",
     "start_time": "2021-04-30T18:19:51.950061Z"
    }
   },
   "outputs": [],
   "source": [
    "recom_price = []\n",
    "\n",
    "try:\n",
    "    rick_dia = rick_dia.drop('price_predicted', axis=1)\n",
    "except:\n",
    "    pass\n",
    "\n",
    "for i in tqdm(range(len(rick_dia))):\n",
    "    recom_price.append(find_sim_cos5(rick_dia[i:i+1].drop(['clarity', 'color', 'cut', 'depth', 'table'], axis=1)))"
   ]
  },
  {
   "cell_type": "code",
   "execution_count": null,
   "id": "mature-margin",
   "metadata": {
    "ExecuteTime": {
     "end_time": "2021-04-30T18:22:27.798530Z",
     "start_time": "2021-04-30T18:22:27.785590Z"
    }
   },
   "outputs": [],
   "source": [
    "rick_dia = pd.concat([rick_dia, pd.DataFrame({'price_predicted': recom_price})], axis=1)"
   ]
  },
  {
   "cell_type": "markdown",
   "id": "impressive-underwear",
   "metadata": {},
   "source": [
    "## Mudando a função de agregação\n",
    "Retirando colunas 'depth' e 'table' do algoritmo. Aplicando média ponderada pelo ranking da matriz de similaridade.\n",
    "\n",
    "head: 5\n",
    "\n",
    "Erro: 603.2720255650976"
   ]
  },
  {
   "cell_type": "code",
   "execution_count": 72,
   "id": "respective-roots",
   "metadata": {
    "ExecuteTime": {
     "end_time": "2021-04-30T19:10:02.613654Z",
     "start_time": "2021-04-30T19:10:02.599699Z"
    },
    "code_folding": []
   },
   "outputs": [],
   "source": [
    "def find_sim_pon5(df):\n",
    "    ''' Esta funcao recebe uma linha do dataset a ser previsto e retorna um valor de preco igual a\n",
    "        media dos precos das 5 linhas do dataset de treinamento mais proximas, de acordo com a distancia\n",
    "        euclidiana. Este metodo desconsidera as colunas 'depth' e 'table'\n",
    "        \n",
    "        Input:\n",
    "            df - dataframe linha do dataset a ser previsto\n",
    "        Output:\n",
    "            recommendation - float preco recomendado\n",
    "    '''\n",
    "    \n",
    "    distance_vector = cdist(hist_dia.drop(['price', 'clarity', 'color', 'cut', 'depth', 'table'], axis=1), df)\n",
    "\n",
    "    similarities = 1 / (1 + distance_vector)\n",
    "\n",
    "    similarity_index = pd.DataFrame(similarities, \n",
    "                                    index=hist_dia.index)\n",
    "    top_sim = similarity_index.sort_values(by=0, ascending=False).head(5)\n",
    "    \n",
    "    recommendation = sum([hist_dia.loc[i, 'price'] * (top_sim.loc[i,0]/(top_sim.sum())) for i in top_sim.index])\n",
    "\n",
    "    return recommendation[0]"
   ]
  },
  {
   "cell_type": "code",
   "execution_count": 75,
   "id": "governing-carbon",
   "metadata": {
    "ExecuteTime": {
     "end_time": "2021-04-30T19:12:23.865437Z",
     "start_time": "2021-04-30T19:10:34.300270Z"
    },
    "code_folding": []
   },
   "outputs": [
    {
     "name": "stderr",
     "output_type": "stream",
     "text": [
      "100%|██████████| 5000/5000 [01:49<00:00, 45.64it/s]\n"
     ]
    }
   ],
   "source": [
    "recom_price = []\n",
    "\n",
    "try:\n",
    "    rick_dia = rick_dia.drop('price_predicted', axis=1)\n",
    "except:\n",
    "    pass\n",
    "\n",
    "for i in tqdm(range(len(rick_dia))):\n",
    "    recom_price.append(find_sim_pon5(rick_dia[i:i+1].drop(['clarity', 'color', 'cut', 'depth', 'table'], axis=1)))"
   ]
  },
  {
   "cell_type": "code",
   "execution_count": 76,
   "id": "finnish-truth",
   "metadata": {
    "ExecuteTime": {
     "end_time": "2021-04-30T19:13:05.291715Z",
     "start_time": "2021-04-30T19:13:05.277753Z"
    }
   },
   "outputs": [],
   "source": [
    "rick_dia = pd.concat([rick_dia, pd.DataFrame({'price_predicted': recom_price})], axis=1)"
   ]
  },
  {
   "cell_type": "markdown",
   "id": "reasonable-accident",
   "metadata": {},
   "source": [
    "## Aumentando as linhas do data set\n",
    "Retirando colunas 'depth' e 'table' do algoritmo. Após ums previsão, a linha com a previsão é inserida no dataset de controle\n",
    "\n",
    "head: 5\n",
    "\n",
    "Erro: 616.7897113043206"
   ]
  },
  {
   "cell_type": "code",
   "execution_count": 136,
   "id": "guided-champion",
   "metadata": {
    "ExecuteTime": {
     "end_time": "2021-04-30T20:00:00.137389Z",
     "start_time": "2021-04-30T20:00:00.117443Z"
    }
   },
   "outputs": [],
   "source": [
    "def find_sim_lin5(contr, df):\n",
    "    ''' Esta funcao recebe uma linha do dataset a ser previsto e retorna um valor de preco igual a\n",
    "        media dos precos das 5 linhas do dataset de treinamento mais proximas, de acordo com a distancia\n",
    "        euclidiana. Este metodo desconsidera as colunas 'depth' e 'table'\n",
    "        \n",
    "        Input:\n",
    "            df - dataframe linha do dataset a ser previsto\n",
    "        Output:\n",
    "            recommendation - float preco recomendado\n",
    "    '''\n",
    "\n",
    "    df= df.to_frame().T\n",
    "    distance_vector = cdist(contr.drop('price', axis=1), df)\n",
    "\n",
    "    similarities = 1 / (1 + distance_vector)\n",
    "\n",
    "    similarity_index = pd.DataFrame(similarities, \n",
    "                                    index=contr.index)\n",
    "    recommendation = contr.loc[similarity_index.sort_values(by=0, ascending=False).head(5).index, 'price'].mean()\n",
    "    \n",
    "    df['price'] = recommendation\n",
    "    contr = pd.concat([contr, df], ignore_index=True)\n",
    "\n",
    "    return recommendation, contr"
   ]
  },
  {
   "cell_type": "code",
   "execution_count": 137,
   "id": "revised-watson",
   "metadata": {
    "ExecuteTime": {
     "end_time": "2021-04-30T20:04:40.595349Z",
     "start_time": "2021-04-30T20:00:00.888432Z"
    }
   },
   "outputs": [
    {
     "name": "stderr",
     "output_type": "stream",
     "text": [
      "100%|██████████| 5000/5000 [04:39<00:00, 17.88it/s]\n"
     ]
    }
   ],
   "source": [
    "controle = hist_dia.drop(['clarity', 'color', 'cut', 'depth', 'table'], axis=1)\n",
    "recom_price = []\n",
    "\n",
    "try:\n",
    "    rick_dia = rick_dia.drop('price_predicted', axis=1)\n",
    "except:\n",
    "    pass\n",
    "\n",
    "for i in tqdm(range(len(rick_dia))):\n",
    "    rick_dia.loc[i, 'price_predicted'], controle = find_sim_lin5(controle, rick_dia.loc[i, ['carat', 'x', 'y', 'z','clar', 'color_class', 'cut_class']])"
   ]
  },
  {
   "cell_type": "code",
   "execution_count": 138,
   "id": "tropical-interest",
   "metadata": {
    "ExecuteTime": {
     "end_time": "2021-04-30T20:04:49.185741Z",
     "start_time": "2021-04-30T20:04:49.179733Z"
    }
   },
   "outputs": [],
   "source": [
    "rick_dia = pd.concat([rick_dia, pd.DataFrame({'price_predicted': recom_price})], axis=1)"
   ]
  },
  {
   "cell_type": "markdown",
   "id": "complimentary-scoop",
   "metadata": {},
   "source": [
    "##  Salvando arquivo"
   ]
  },
  {
   "cell_type": "code",
   "execution_count": 139,
   "id": "recorded-finger",
   "metadata": {
    "ExecuteTime": {
     "end_time": "2021-04-30T20:04:51.663331Z",
     "start_time": "2021-04-30T20:04:51.499721Z"
    }
   },
   "outputs": [],
   "source": [
    "# salvando dados previstos em arquivo .csv \n",
    "rick_dia[['carat', 'cut', 'color', 'clarity', 'depth', 'table', 'x', 'y', 'z', 'price_predicted']].to_csv('data/rick_dia_recomendado.csv', index=False)"
   ]
  }
 ],
 "metadata": {
  "kernelspec": {
   "display_name": "Python 3",
   "language": "python",
   "name": "python3"
  },
  "language_info": {
   "codemirror_mode": {
    "name": "ipython",
    "version": 3
   },
   "file_extension": ".py",
   "mimetype": "text/x-python",
   "name": "python",
   "nbconvert_exporter": "python",
   "pygments_lexer": "ipython3",
   "version": "3.8.8"
  },
  "toc": {
   "base_numbering": 1,
   "nav_menu": {},
   "number_sections": true,
   "sideBar": true,
   "skip_h1_title": false,
   "title_cell": "Table of Contents",
   "title_sidebar": "Contents",
   "toc_cell": false,
   "toc_position": {},
   "toc_section_display": true,
   "toc_window_display": false
  },
  "varInspector": {
   "cols": {
    "lenName": 16,
    "lenType": 16,
    "lenVar": 40
   },
   "kernels_config": {
    "python": {
     "delete_cmd_postfix": "",
     "delete_cmd_prefix": "del ",
     "library": "var_list.py",
     "varRefreshCmd": "print(var_dic_list())"
    },
    "r": {
     "delete_cmd_postfix": ") ",
     "delete_cmd_prefix": "rm(",
     "library": "var_list.r",
     "varRefreshCmd": "cat(var_dic_list()) "
    }
   },
   "position": {
    "height": "296.667px",
    "left": "901px",
    "right": "20px",
    "top": "120px",
    "width": "359px"
   },
   "types_to_exclude": [
    "module",
    "function",
    "builtin_function_or_method",
    "instance",
    "_Feature"
   ],
   "window_display": false
  }
 },
 "nbformat": 4,
 "nbformat_minor": 5
}
