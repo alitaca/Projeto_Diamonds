{
 "cells": [
  {
   "cell_type": "markdown",
   "id": "solid-duplicate",
   "metadata": {},
   "source": [
    "#  Projeto Diamond - Sistema de recomendação"
   ]
  },
  {
   "cell_type": "markdown",
   "id": "convertible-knife",
   "metadata": {},
   "source": [
    "## Preparando os dados"
   ]
  },
  {
   "cell_type": "code",
   "execution_count": 116,
   "id": "outside-locator",
   "metadata": {
    "ExecuteTime": {
     "end_time": "2021-04-30T12:25:28.987982Z",
     "start_time": "2021-04-30T12:25:28.938892Z"
    }
   },
   "outputs": [],
   "source": [
    "# importando as bibliotecas\n",
    "import pandas as pd\n",
    "import numpy as np\n",
    "import matplotlib.pyplot as plt\n",
    "\n",
    "from tqdm import tqdm\n",
    "\n",
    "from scipy.spatial.distance import cdist"
   ]
  },
  {
   "cell_type": "code",
   "execution_count": 117,
   "id": "integral-timothy",
   "metadata": {
    "ExecuteTime": {
     "end_time": "2021-04-30T12:26:34.151002Z",
     "start_time": "2021-04-30T12:26:34.118773Z"
    }
   },
   "outputs": [],
   "source": [
    "# importando dados a serem avaliados\n",
    "rick_dia = pd.read_csv('data/rick_diamonds.csv')"
   ]
  },
  {
   "cell_type": "markdown",
   "id": "corporate-applicant",
   "metadata": {
    "ExecuteTime": {
     "end_time": "2021-04-29T15:26:00.155535Z",
     "start_time": "2021-04-29T15:26:00.098509Z"
    }
   },
   "source": [
    "rick_dia.describe()"
   ]
  },
  {
   "cell_type": "markdown",
   "id": "recreational-asbestos",
   "metadata": {
    "ExecuteTime": {
     "end_time": "2021-04-29T15:34:31.082726Z",
     "start_time": "2021-04-29T15:34:30.949004Z"
    }
   },
   "source": [
    "plt.hist(rick_dia['z']);"
   ]
  },
  {
   "cell_type": "code",
   "execution_count": 118,
   "id": "three-calibration",
   "metadata": {
    "ExecuteTime": {
     "end_time": "2021-04-30T12:26:48.787103Z",
     "start_time": "2021-04-30T12:26:48.606923Z"
    }
   },
   "outputs": [],
   "source": [
    "# importando os dados de treinamento do algoritmo\n",
    "hist_dia = pd.read_csv('data/diamonds.csv')"
   ]
  },
  {
   "cell_type": "code",
   "execution_count": 119,
   "id": "turned-former",
   "metadata": {
    "ExecuteTime": {
     "end_time": "2021-04-30T12:26:56.141016Z",
     "start_time": "2021-04-30T12:26:56.115497Z"
    }
   },
   "outputs": [],
   "source": [
    "# Transformando strings da coluna 'clarity' em inteiros discretos\n",
    "clarity_order = {'I1': 0, 'SI2': 1, 'SI1': 2, 'VS2': 3, 'VS1': 4, 'VVS2': 5, 'VVS1': 6, 'IF': 7}\n",
    "\n",
    "hist_dia['clar'] = hist_dia['clarity'].apply(lambda x: clarity_order[x])\n",
    "rick_dia['clar'] = rick_dia['clarity'].apply(lambda x: clarity_order[x])"
   ]
  },
  {
   "cell_type": "code",
   "execution_count": 120,
   "id": "quality-scanner",
   "metadata": {
    "ExecuteTime": {
     "end_time": "2021-04-30T12:26:56.568724Z",
     "start_time": "2021-04-30T12:26:56.536810Z"
    }
   },
   "outputs": [],
   "source": [
    "# Transformando strings da coluna 'color' em inteiros discretos\n",
    "color_order = {'J': 0, 'I': 1, 'H': 2, 'G': 3, 'F': 4, 'E': 5, 'D': 6}\n",
    "\n",
    "hist_dia['color_class'] = hist_dia['color'].apply(lambda x: color_order[x])\n",
    "rick_dia['color_class'] = rick_dia['color'].apply(lambda x: color_order[x])"
   ]
  },
  {
   "cell_type": "code",
   "execution_count": 121,
   "id": "functioning-screening",
   "metadata": {
    "ExecuteTime": {
     "end_time": "2021-04-30T12:26:57.113809Z",
     "start_time": "2021-04-30T12:26:57.085884Z"
    }
   },
   "outputs": [],
   "source": [
    "# Transformando strings da coluna 'cut' em inteiros discretos\n",
    "cut_order = {'Fair': 0, 'Good': 1, 'Very Good': 2, 'Premium': 3, 'Ideal': 4}\n",
    "\n",
    "hist_dia['cut_class'] = hist_dia['cut'].apply(lambda x: cut_order[x])\n",
    "rick_dia['cut_class'] = rick_dia['cut'].apply(lambda x: cut_order[x])"
   ]
  },
  {
   "cell_type": "markdown",
   "id": "worth-bangkok",
   "metadata": {},
   "source": [
    "## Primeiro sistema de recomendação\n",
    "\n",
    "head: 1\n",
    "\n",
    "Erro: 1019.28957747541"
   ]
  },
  {
   "cell_type": "markdown",
   "id": "talented-tender",
   "metadata": {
    "ExecuteTime": {
     "end_time": "2021-04-29T22:36:54.385675Z",
     "start_time": "2021-04-29T22:36:54.367456Z"
    }
   },
   "source": [
    "def find_sim(df):\n",
    "    ''' Esta funcao recebe uma linha do dataset a ser previsto e retorna um valor de preco igual\n",
    "        ao preco da linha do dataset de treinamento mais proxima, de acordo com a distancia\n",
    "        euclidiana.\n",
    "        \n",
    "        Input:\n",
    "            df - dataframe linha do dataset a ser previsto\n",
    "        Output:\n",
    "            recommendation - float preco recomendado\n",
    "    '''\n",
    "    \n",
    "    distance_vector = cdist(hist_dia.drop(['price', 'clarity', 'color', 'cut'], axis=1),df)\n",
    "\n",
    "    similarities = 1 / (1 + distance_vector)\n",
    "\n",
    "    similarity_index = pd.DataFrame(similarities, \n",
    "                                    index=hist_dia.index)\n",
    "    recommendation = hist_dia.loc[similarity_index.sort_values(by=0, ascending=False).head(1).index, 'price'].mean()\n",
    "    \n",
    "    return recommendation"
   ]
  },
  {
   "cell_type": "markdown",
   "id": "clinical-rabbit",
   "metadata": {
    "ExecuteTime": {
     "end_time": "2021-04-29T22:48:02.701440Z",
     "start_time": "2021-04-29T22:46:57.871122Z"
    }
   },
   "source": [
    "recom_price = []\n",
    "\n",
    "try:\n",
    "    rick_dia = rick_dia.drop('price_predicted', axis=1)\n",
    "except:\n",
    "    pass\n",
    "\n",
    "for i in tqdm(range(len(rick_dia))):\n",
    "    recom_price.append(find_sim(rick_dia[i:i+1].drop(['clarity', 'color', 'cut'], axis=1)))"
   ]
  },
  {
   "cell_type": "markdown",
   "id": "crude-sugar",
   "metadata": {
    "ExecuteTime": {
     "end_time": "2021-04-29T22:48:19.210145Z",
     "start_time": "2021-04-29T22:48:19.195199Z"
    }
   },
   "source": [
    "rick_dia = pd.concat([rick_dia, pd.DataFrame({'price_predicted': recom_price})], axis=1)"
   ]
  },
  {
   "cell_type": "markdown",
   "id": "strange-jumping",
   "metadata": {},
   "source": [
    "## Testando mais heads\n",
    "\n",
    "head: 5\n",
    "Erro: 861.832306397248"
   ]
  },
  {
   "cell_type": "markdown",
   "id": "fourth-thanks",
   "metadata": {
    "ExecuteTime": {
     "end_time": "2021-04-30T12:14:43.162728Z",
     "start_time": "2021-04-30T12:14:43.150760Z"
    }
   },
   "source": [
    "def find_sim_5(df):\n",
    "    ''' Esta funcao recebe uma linha do dataset a ser previsto e retorna um valor de preco igual a\n",
    "        media dos precos das 5 linhas do dataset de treinamento mais proximas, de acordo com a distancia\n",
    "        euclidiana.\n",
    "        \n",
    "        Input:\n",
    "            df - dataframe linha do dataset a ser previsto\n",
    "        Output:\n",
    "            recommendation - float preco recomendado\n",
    "    '''\n",
    "    \n",
    "    distance_vector = cdist(hist_dia.drop(['price', 'clarity', 'color', 'cut'], axis=1), df)\n",
    "\n",
    "    similarities = 1 / (1 + distance_vector)\n",
    "\n",
    "    similarity_index = pd.DataFrame(similarities, \n",
    "                                    index=hist_dia.index)\n",
    "    recommendation = hist_dia.loc[similarity_index.sort_values(by=0, ascending=False).head(5).index, 'price'].mean()\n",
    "    \n",
    "    return recommendation"
   ]
  },
  {
   "cell_type": "markdown",
   "id": "complicated-bobby",
   "metadata": {
    "ExecuteTime": {
     "end_time": "2021-04-30T12:17:18.833762Z",
     "start_time": "2021-04-30T12:15:52.170174Z"
    }
   },
   "source": [
    "recom_price = []\n",
    "\n",
    "try:\n",
    "    rick_dia = rick_dia.drop('price_predicted', axis=1)\n",
    "except:\n",
    "    pass\n",
    "\n",
    "for i in tqdm(range(len(rick_dia))):\n",
    "    recom_price.append(find_sim_5(rick_dia[i:i+1].drop(['clarity', 'color', 'cut'], axis=1)))"
   ]
  },
  {
   "cell_type": "markdown",
   "id": "revised-portugal",
   "metadata": {
    "ExecuteTime": {
     "end_time": "2021-04-30T12:22:34.776160Z",
     "start_time": "2021-04-30T12:22:34.767186Z"
    }
   },
   "source": [
    "rick_dia = pd.concat([rick_dia, pd.DataFrame({'price_predicted': recom_price})], axis=1)"
   ]
  },
  {
   "cell_type": "markdown",
   "id": "current-individual",
   "metadata": {},
   "source": [
    "## Utilizando menos colunas\n",
    "Retirando colunas 'depth' e 'table' do algoritmo\n",
    "\n",
    "head: 5\n",
    "\n",
    "Erro: 613.8702581735004"
   ]
  },
  {
   "cell_type": "code",
   "execution_count": 122,
   "id": "invalid-recommendation",
   "metadata": {
    "ExecuteTime": {
     "end_time": "2021-04-30T12:29:53.240113Z",
     "start_time": "2021-04-30T12:29:53.213158Z"
    }
   },
   "outputs": [
    {
     "data": {
      "text/html": [
       "<div>\n",
       "<style scoped>\n",
       "    .dataframe tbody tr th:only-of-type {\n",
       "        vertical-align: middle;\n",
       "    }\n",
       "\n",
       "    .dataframe tbody tr th {\n",
       "        vertical-align: top;\n",
       "    }\n",
       "\n",
       "    .dataframe thead th {\n",
       "        text-align: right;\n",
       "    }\n",
       "</style>\n",
       "<table border=\"1\" class=\"dataframe\">\n",
       "  <thead>\n",
       "    <tr style=\"text-align: right;\">\n",
       "      <th></th>\n",
       "      <th>carat</th>\n",
       "      <th>cut</th>\n",
       "      <th>color</th>\n",
       "      <th>clarity</th>\n",
       "      <th>depth</th>\n",
       "      <th>table</th>\n",
       "      <th>price</th>\n",
       "      <th>x</th>\n",
       "      <th>y</th>\n",
       "      <th>z</th>\n",
       "      <th>clar</th>\n",
       "      <th>color_class</th>\n",
       "      <th>cut_class</th>\n",
       "    </tr>\n",
       "  </thead>\n",
       "  <tbody>\n",
       "    <tr>\n",
       "      <th>0</th>\n",
       "      <td>0.21</td>\n",
       "      <td>Premium</td>\n",
       "      <td>E</td>\n",
       "      <td>SI1</td>\n",
       "      <td>59.8</td>\n",
       "      <td>61.0</td>\n",
       "      <td>326</td>\n",
       "      <td>3.89</td>\n",
       "      <td>3.84</td>\n",
       "      <td>2.31</td>\n",
       "      <td>2</td>\n",
       "      <td>5</td>\n",
       "      <td>3</td>\n",
       "    </tr>\n",
       "    <tr>\n",
       "      <th>1</th>\n",
       "      <td>0.23</td>\n",
       "      <td>Good</td>\n",
       "      <td>E</td>\n",
       "      <td>VS1</td>\n",
       "      <td>56.9</td>\n",
       "      <td>65.0</td>\n",
       "      <td>327</td>\n",
       "      <td>4.05</td>\n",
       "      <td>4.07</td>\n",
       "      <td>2.31</td>\n",
       "      <td>4</td>\n",
       "      <td>5</td>\n",
       "      <td>1</td>\n",
       "    </tr>\n",
       "    <tr>\n",
       "      <th>2</th>\n",
       "      <td>0.29</td>\n",
       "      <td>Premium</td>\n",
       "      <td>I</td>\n",
       "      <td>VS2</td>\n",
       "      <td>62.4</td>\n",
       "      <td>58.0</td>\n",
       "      <td>334</td>\n",
       "      <td>4.20</td>\n",
       "      <td>4.23</td>\n",
       "      <td>2.63</td>\n",
       "      <td>3</td>\n",
       "      <td>1</td>\n",
       "      <td>3</td>\n",
       "    </tr>\n",
       "    <tr>\n",
       "      <th>3</th>\n",
       "      <td>0.31</td>\n",
       "      <td>Good</td>\n",
       "      <td>J</td>\n",
       "      <td>SI2</td>\n",
       "      <td>63.3</td>\n",
       "      <td>58.0</td>\n",
       "      <td>335</td>\n",
       "      <td>4.34</td>\n",
       "      <td>4.35</td>\n",
       "      <td>2.75</td>\n",
       "      <td>1</td>\n",
       "      <td>0</td>\n",
       "      <td>1</td>\n",
       "    </tr>\n",
       "    <tr>\n",
       "      <th>4</th>\n",
       "      <td>0.24</td>\n",
       "      <td>Very Good</td>\n",
       "      <td>J</td>\n",
       "      <td>VVS2</td>\n",
       "      <td>62.8</td>\n",
       "      <td>57.0</td>\n",
       "      <td>336</td>\n",
       "      <td>3.94</td>\n",
       "      <td>3.96</td>\n",
       "      <td>2.48</td>\n",
       "      <td>5</td>\n",
       "      <td>0</td>\n",
       "      <td>2</td>\n",
       "    </tr>\n",
       "  </tbody>\n",
       "</table>\n",
       "</div>"
      ],
      "text/plain": [
       "   carat        cut color clarity  depth  table  price     x     y     z  \\\n",
       "0   0.21    Premium     E     SI1   59.8   61.0    326  3.89  3.84  2.31   \n",
       "1   0.23       Good     E     VS1   56.9   65.0    327  4.05  4.07  2.31   \n",
       "2   0.29    Premium     I     VS2   62.4   58.0    334  4.20  4.23  2.63   \n",
       "3   0.31       Good     J     SI2   63.3   58.0    335  4.34  4.35  2.75   \n",
       "4   0.24  Very Good     J    VVS2   62.8   57.0    336  3.94  3.96  2.48   \n",
       "\n",
       "   clar  color_class  cut_class  \n",
       "0     2            5          3  \n",
       "1     4            5          1  \n",
       "2     3            1          3  \n",
       "3     1            0          1  \n",
       "4     5            0          2  "
      ]
     },
     "execution_count": 122,
     "metadata": {},
     "output_type": "execute_result"
    }
   ],
   "source": [
    "hist_dia.head()"
   ]
  },
  {
   "cell_type": "code",
   "execution_count": 124,
   "id": "natural-final",
   "metadata": {
    "ExecuteTime": {
     "end_time": "2021-04-30T12:32:21.818474Z",
     "start_time": "2021-04-30T12:32:21.812508Z"
    }
   },
   "outputs": [],
   "source": [
    "def find_sim_col5(df):\n",
    "    ''' Esta funcao recebe uma linha do dataset a ser previsto e retorna um valor de preco igual a\n",
    "        media dos precos das 5 linhas do dataset de treinamento mais proximas, de acordo com a distancia\n",
    "        euclidiana. Este metodo desconsidera as colunas 'depth' e 'table'\n",
    "        \n",
    "        Input:\n",
    "            df - dataframe linha do dataset a ser previsto\n",
    "        Output:\n",
    "            recommendation - float preco recomendado\n",
    "    '''\n",
    "    \n",
    "    distance_vector = cdist(hist_dia.drop(['price', 'clarity', 'color', 'cut', 'depth', 'table'], axis=1), df)\n",
    "\n",
    "    similarities = 1 / (1 + distance_vector)\n",
    "\n",
    "    similarity_index = pd.DataFrame(similarities, \n",
    "                                    index=hist_dia.index)\n",
    "    recommendation = hist_dia.loc[similarity_index.sort_values(by=0, ascending=False).head(5).index, 'price'].mean()\n",
    "    \n",
    "    return recommendation"
   ]
  },
  {
   "cell_type": "code",
   "execution_count": 125,
   "id": "measured-advancement",
   "metadata": {
    "ExecuteTime": {
     "end_time": "2021-04-30T12:33:30.143270Z",
     "start_time": "2021-04-30T12:32:24.712095Z"
    }
   },
   "outputs": [
    {
     "name": "stderr",
     "output_type": "stream",
     "text": [
      "100%|██████████| 5000/5000 [01:05<00:00, 76.43it/s]\n"
     ]
    }
   ],
   "source": [
    "recom_price = []\n",
    "\n",
    "try:\n",
    "    rick_dia = rick_dia.drop('price_predicted', axis=1)\n",
    "except:\n",
    "    pass\n",
    "\n",
    "for i in tqdm(range(len(rick_dia))):\n",
    "    recom_price.append(find_sim_5(rick_dia[i:i+1].drop(['clarity', 'color', 'cut', 'depth', 'table'], axis=1)))"
   ]
  },
  {
   "cell_type": "code",
   "execution_count": 126,
   "id": "entire-period",
   "metadata": {
    "ExecuteTime": {
     "end_time": "2021-04-30T12:33:32.689873Z",
     "start_time": "2021-04-30T12:33:32.668960Z"
    }
   },
   "outputs": [],
   "source": [
    "rick_dia = pd.concat([rick_dia, pd.DataFrame({'price_predicted': recom_price})], axis=1)"
   ]
  },
  {
   "cell_type": "markdown",
   "id": "frequent-appliance",
   "metadata": {},
   "source": [
    "## Usando métrica de Hamming\n",
    "head: 5\n",
    "\n",
    "Erro: 1546.7734066695095"
   ]
  },
  {
   "cell_type": "markdown",
   "id": "ranging-button",
   "metadata": {
    "ExecuteTime": {
     "end_time": "2021-04-30T12:52:36.545956Z",
     "start_time": "2021-04-30T12:52:36.527024Z"
    }
   },
   "source": [
    "def find_sim_ham5(df):\n",
    "    ''' Esta funcao recebe uma linha do dataset a ser previsto e retorna um valor de preco igual a\n",
    "        media dos precos das 5 linhas do dataset de treinamento mais proximas, de acordo com a distancia\n",
    "        de Hamming. Este metodo desconsidera as colunas 'depth' e 'table'\n",
    "        \n",
    "        Input:\n",
    "            df - dataframe linha do dataset a ser previsto\n",
    "        Output:\n",
    "            recommendation - float preco recomendado\n",
    "    '''\n",
    "    \n",
    "    distance_vector = cdist(hist_dia.drop(['price', 'clarity', 'color', 'cut', 'depth', 'table'], axis=1), df, metric='hamming')\n",
    "\n",
    "    similarities = 1 / (1 + distance_vector)\n",
    "\n",
    "    similarity_index = pd.DataFrame(similarities, \n",
    "                                    index=hist_dia.index)\n",
    "    recommendation = hist_dia.loc[similarity_index.sort_values(by=0, ascending=False).head(5).index, 'price'].mean()\n",
    "    \n",
    "    return recommendation"
   ]
  },
  {
   "cell_type": "markdown",
   "id": "suitable-engagement",
   "metadata": {
    "ExecuteTime": {
     "end_time": "2021-04-30T12:53:51.513267Z",
     "start_time": "2021-04-30T12:52:43.237420Z"
    }
   },
   "source": [
    "recom_price = []\n",
    "\n",
    "try:\n",
    "    rick_dia = rick_dia.drop('price_predicted', axis=1)\n",
    "except:\n",
    "    pass\n",
    "\n",
    "for i in tqdm(range(len(rick_dia))):\n",
    "    recom_price.append(find_sim_ham5(rick_dia[i:i+1].drop(['clarity', 'color', 'cut', 'depth', 'table'], axis=1)))"
   ]
  },
  {
   "cell_type": "markdown",
   "id": "architectural-intro",
   "metadata": {
    "ExecuteTime": {
     "end_time": "2021-04-30T12:53:54.691008Z",
     "start_time": "2021-04-30T12:53:54.683036Z"
    }
   },
   "source": [
    "rick_dia = pd.concat([rick_dia, pd.DataFrame({'price_predicted': recom_price})], axis=1)"
   ]
  },
  {
   "cell_type": "markdown",
   "id": "artificial-stationery",
   "metadata": {},
   "source": [
    "##  Salvando arquivo"
   ]
  },
  {
   "cell_type": "code",
   "execution_count": 135,
   "id": "israeli-exclusive",
   "metadata": {
    "ExecuteTime": {
     "end_time": "2021-04-30T12:53:56.340650Z",
     "start_time": "2021-04-30T12:53:56.293028Z"
    }
   },
   "outputs": [],
   "source": [
    "# salvando dados previstos em arquivo .csv \n",
    "rick_dia[['carat', 'cut', 'color', 'clarity', 'depth', 'table', 'x', 'y', 'z', 'price_predicted']].to_csv('data/rick_dia_recomendado.csv', index=False)"
   ]
  }
 ],
 "metadata": {
  "kernelspec": {
   "display_name": "Python 3",
   "language": "python",
   "name": "python3"
  },
  "language_info": {
   "codemirror_mode": {
    "name": "ipython",
    "version": 3
   },
   "file_extension": ".py",
   "mimetype": "text/x-python",
   "name": "python",
   "nbconvert_exporter": "python",
   "pygments_lexer": "ipython3",
   "version": "3.8.8"
  },
  "toc": {
   "base_numbering": 1,
   "nav_menu": {},
   "number_sections": true,
   "sideBar": true,
   "skip_h1_title": false,
   "title_cell": "Table of Contents",
   "title_sidebar": "Contents",
   "toc_cell": false,
   "toc_position": {},
   "toc_section_display": true,
   "toc_window_display": false
  },
  "varInspector": {
   "cols": {
    "lenName": 16,
    "lenType": 16,
    "lenVar": 40
   },
   "kernels_config": {
    "python": {
     "delete_cmd_postfix": "",
     "delete_cmd_prefix": "del ",
     "library": "var_list.py",
     "varRefreshCmd": "print(var_dic_list())"
    },
    "r": {
     "delete_cmd_postfix": ") ",
     "delete_cmd_prefix": "rm(",
     "library": "var_list.r",
     "varRefreshCmd": "cat(var_dic_list()) "
    }
   },
   "types_to_exclude": [
    "module",
    "function",
    "builtin_function_or_method",
    "instance",
    "_Feature"
   ],
   "window_display": false
  }
 },
 "nbformat": 4,
 "nbformat_minor": 5
}
