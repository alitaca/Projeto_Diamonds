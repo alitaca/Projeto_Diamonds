{
 "cells": [
  {
   "cell_type": "markdown",
   "id": "future-apollo",
   "metadata": {},
   "source": [
    "#  Projeto Diamonds"
   ]
  },
  {
   "cell_type": "markdown",
   "id": "native-infrared",
   "metadata": {},
   "source": [
    "## Preparando código"
   ]
  },
  {
   "cell_type": "code",
   "execution_count": 2,
   "id": "functioning-interface",
   "metadata": {
    "ExecuteTime": {
     "end_time": "2021-04-29T22:07:06.186030Z",
     "start_time": "2021-04-29T22:07:05.000044Z"
    }
   },
   "outputs": [],
   "source": [
    "# importando bibliotecas\n",
    "import pandas as pd\n",
    "import numpy as np\n",
    "import matplotlib.pyplot as plt\n",
    "from scipy.spatial.distance import pdist, squareform\n",
    "from sklearn.linear_model import LinearRegression"
   ]
  },
  {
   "cell_type": "code",
   "execution_count": 3,
   "id": "approximate-mouth",
   "metadata": {
    "ExecuteTime": {
     "end_time": "2021-04-29T22:07:06.310488Z",
     "start_time": "2021-04-29T22:07:06.233627Z"
    }
   },
   "outputs": [],
   "source": [
    "hist_dia = pd.read_csv('data/diamonds.csv')\n",
    "rick_dia = pd.read_csv('data/rick_diamonds.csv')"
   ]
  },
  {
   "cell_type": "code",
   "execution_count": 4,
   "id": "competent-poster",
   "metadata": {
    "ExecuteTime": {
     "end_time": "2021-04-29T22:07:07.111871Z",
     "start_time": "2021-04-29T22:07:07.087936Z"
    }
   },
   "outputs": [
    {
     "name": "stdout",
     "output_type": "stream",
     "text": [
      "<class 'pandas.core.frame.DataFrame'>\n",
      "RangeIndex: 48940 entries, 0 to 48939\n",
      "Data columns (total 10 columns):\n",
      " #   Column   Non-Null Count  Dtype  \n",
      "---  ------   --------------  -----  \n",
      " 0   carat    48940 non-null  float64\n",
      " 1   cut      48940 non-null  object \n",
      " 2   color    48940 non-null  object \n",
      " 3   clarity  48940 non-null  object \n",
      " 4   depth    48940 non-null  float64\n",
      " 5   table    48940 non-null  float64\n",
      " 6   price    48940 non-null  int64  \n",
      " 7   x        48940 non-null  float64\n",
      " 8   y        48940 non-null  float64\n",
      " 9   z        48940 non-null  float64\n",
      "dtypes: float64(6), int64(1), object(3)\n",
      "memory usage: 3.7+ MB\n"
     ]
    }
   ],
   "source": [
    "hist_dia.info()"
   ]
  },
  {
   "cell_type": "code",
   "execution_count": 3,
   "id": "racial-domestic",
   "metadata": {
    "ExecuteTime": {
     "end_time": "2021-04-28T21:03:32.025869Z",
     "start_time": "2021-04-28T21:03:31.968991Z"
    }
   },
   "outputs": [
    {
     "data": {
      "text/html": [
       "<div>\n",
       "<style scoped>\n",
       "    .dataframe tbody tr th:only-of-type {\n",
       "        vertical-align: middle;\n",
       "    }\n",
       "\n",
       "    .dataframe tbody tr th {\n",
       "        vertical-align: top;\n",
       "    }\n",
       "\n",
       "    .dataframe thead th {\n",
       "        text-align: right;\n",
       "    }\n",
       "</style>\n",
       "<table border=\"1\" class=\"dataframe\">\n",
       "  <thead>\n",
       "    <tr style=\"text-align: right;\">\n",
       "      <th></th>\n",
       "      <th>carat</th>\n",
       "      <th>depth</th>\n",
       "      <th>table</th>\n",
       "      <th>price</th>\n",
       "      <th>x</th>\n",
       "      <th>y</th>\n",
       "      <th>z</th>\n",
       "    </tr>\n",
       "  </thead>\n",
       "  <tbody>\n",
       "    <tr>\n",
       "      <th>count</th>\n",
       "      <td>48940.000000</td>\n",
       "      <td>48940.000000</td>\n",
       "      <td>48940.000000</td>\n",
       "      <td>48940.000000</td>\n",
       "      <td>48940.000000</td>\n",
       "      <td>48940.000000</td>\n",
       "      <td>48940.000000</td>\n",
       "    </tr>\n",
       "    <tr>\n",
       "      <th>mean</th>\n",
       "      <td>0.797817</td>\n",
       "      <td>61.751931</td>\n",
       "      <td>57.451161</td>\n",
       "      <td>3934.409644</td>\n",
       "      <td>5.730712</td>\n",
       "      <td>5.734333</td>\n",
       "      <td>3.538648</td>\n",
       "    </tr>\n",
       "    <tr>\n",
       "      <th>std</th>\n",
       "      <td>0.474126</td>\n",
       "      <td>1.430026</td>\n",
       "      <td>2.233450</td>\n",
       "      <td>3989.333861</td>\n",
       "      <td>1.121920</td>\n",
       "      <td>1.145344</td>\n",
       "      <td>0.706817</td>\n",
       "    </tr>\n",
       "    <tr>\n",
       "      <th>min</th>\n",
       "      <td>0.200000</td>\n",
       "      <td>43.000000</td>\n",
       "      <td>43.000000</td>\n",
       "      <td>326.000000</td>\n",
       "      <td>0.000000</td>\n",
       "      <td>0.000000</td>\n",
       "      <td>0.000000</td>\n",
       "    </tr>\n",
       "    <tr>\n",
       "      <th>25%</th>\n",
       "      <td>0.400000</td>\n",
       "      <td>61.000000</td>\n",
       "      <td>56.000000</td>\n",
       "      <td>949.000000</td>\n",
       "      <td>4.710000</td>\n",
       "      <td>4.720000</td>\n",
       "      <td>2.910000</td>\n",
       "    </tr>\n",
       "    <tr>\n",
       "      <th>50%</th>\n",
       "      <td>0.700000</td>\n",
       "      <td>61.800000</td>\n",
       "      <td>57.000000</td>\n",
       "      <td>2401.000000</td>\n",
       "      <td>5.690000</td>\n",
       "      <td>5.710000</td>\n",
       "      <td>3.520000</td>\n",
       "    </tr>\n",
       "    <tr>\n",
       "      <th>75%</th>\n",
       "      <td>1.040000</td>\n",
       "      <td>62.500000</td>\n",
       "      <td>59.000000</td>\n",
       "      <td>5331.250000</td>\n",
       "      <td>6.540000</td>\n",
       "      <td>6.540000</td>\n",
       "      <td>4.040000</td>\n",
       "    </tr>\n",
       "    <tr>\n",
       "      <th>max</th>\n",
       "      <td>5.010000</td>\n",
       "      <td>79.000000</td>\n",
       "      <td>95.000000</td>\n",
       "      <td>18823.000000</td>\n",
       "      <td>10.740000</td>\n",
       "      <td>58.900000</td>\n",
       "      <td>31.800000</td>\n",
       "    </tr>\n",
       "  </tbody>\n",
       "</table>\n",
       "</div>"
      ],
      "text/plain": [
       "              carat         depth         table         price             x  \\\n",
       "count  48940.000000  48940.000000  48940.000000  48940.000000  48940.000000   \n",
       "mean       0.797817     61.751931     57.451161   3934.409644      5.730712   \n",
       "std        0.474126      1.430026      2.233450   3989.333861      1.121920   \n",
       "min        0.200000     43.000000     43.000000    326.000000      0.000000   \n",
       "25%        0.400000     61.000000     56.000000    949.000000      4.710000   \n",
       "50%        0.700000     61.800000     57.000000   2401.000000      5.690000   \n",
       "75%        1.040000     62.500000     59.000000   5331.250000      6.540000   \n",
       "max        5.010000     79.000000     95.000000  18823.000000     10.740000   \n",
       "\n",
       "                  y             z  \n",
       "count  48940.000000  48940.000000  \n",
       "mean       5.734333      3.538648  \n",
       "std        1.145344      0.706817  \n",
       "min        0.000000      0.000000  \n",
       "25%        4.720000      2.910000  \n",
       "50%        5.710000      3.520000  \n",
       "75%        6.540000      4.040000  \n",
       "max       58.900000     31.800000  "
      ]
     },
     "execution_count": 3,
     "metadata": {},
     "output_type": "execute_result"
    }
   ],
   "source": [
    "hist_dia.describe()"
   ]
  },
  {
   "cell_type": "code",
   "execution_count": 4,
   "id": "roman-label",
   "metadata": {
    "ExecuteTime": {
     "end_time": "2021-04-28T21:03:34.932437Z",
     "start_time": "2021-04-28T21:03:34.477867Z"
    }
   },
   "outputs": [
    {
     "data": {
      "image/png": "[encoded data removed]",
      "text/plain": [
       "<Figure size 432x288 with 1 Axes>"
      ]
     },
     "metadata": {
      "needs_background": "light"
     },
     "output_type": "display_data"
    },
    {
     "data": {
      "image/png": "[encoded data removed]",
      "text/plain": [
       "<Figure size 432x288 with 1 Axes>"
      ]
     },
     "metadata": {
      "needs_background": "light"
     },
     "output_type": "display_data"
    },
    {
     "data": {
      "image/png": "[encoded data removed]",
      "text/plain": [
       "<Figure size 432x288 with 1 Axes>"
      ]
     },
     "metadata": {
      "needs_background": "light"
     },
     "output_type": "display_data"
    },
    {
     "data": {
      "image/png": "[encoded data removed]",
      "text/plain": [
       "<Figure size 432x288 with 1 Axes>"
      ]
     },
     "metadata": {
      "needs_background": "light"
     },
     "output_type": "display_data"
    }
   ],
   "source": [
    "plt.hist(hist_dia['price'])\n",
    "plt.title('price')\n",
    "plt.show()\n",
    "\n",
    "plt.hist(hist_dia['carat'], bins=10)\n",
    "plt.title('carat')\n",
    "plt.show()\n",
    "\n",
    "plt.hist(hist_dia['depth'], bins=20)\n",
    "plt.title('depth')\n",
    "plt.show()\n",
    "\n",
    "plt.hist(hist_dia['table'], bins=20)\n",
    "plt.title('table')\n",
    "plt.show()"
   ]
  },
  {
   "cell_type": "markdown",
   "id": "selected-challenge",
   "metadata": {},
   "source": [
    "##  Primeira Baseline - Média"
   ]
  },
  {
   "cell_type": "code",
   "execution_count": 5,
   "id": "present-abraham",
   "metadata": {
    "ExecuteTime": {
     "end_time": "2021-04-28T21:03:38.380253Z",
     "start_time": "2021-04-28T21:03:38.373241Z"
    }
   },
   "outputs": [
    {
     "data": {
      "text/plain": [
       "3934.409644462607"
      ]
     },
     "execution_count": 5,
     "metadata": {},
     "output_type": "execute_result"
    }
   ],
   "source": [
    "# Avaliando a média de preços\n",
    "hist_dia['price'].mean()"
   ]
  },
  {
   "cell_type": "code",
   "execution_count": 6,
   "id": "modular-exposure",
   "metadata": {
    "ExecuteTime": {
     "end_time": "2021-04-28T21:03:39.119015Z",
     "start_time": "2021-04-28T21:03:39.110012Z"
    }
   },
   "outputs": [],
   "source": [
    "def calcula_erro_media(df):\n",
    "    ''' Esta funcao recebe um dataframe com uma coluna 'price_predicted' e calcula\n",
    "        o RMSE em relacao a media de preço de diamantes\n",
    "    '''\n",
    "    \n",
    "    from sklearn.metrics import mean_squared_error\n",
    "    from sklearn.metrics import r2_score\n",
    "    \n",
    "    y_mean = [hist_dia['price'].mean() for i in range(len(df))]\n",
    "    \n",
    "    rmse_media = mean_squared_error(y_mean, df['price_predicted'])\n",
    "    r2_media = r2_score(y_mean, df['price_predicted'])\n",
    "    \n",
    "    return rmse_media, r2_media"
   ]
  },
  {
   "cell_type": "markdown",
   "id": "increasing-relative",
   "metadata": {},
   "source": [
    "##  Desenvolvimento"
   ]
  },
  {
   "cell_type": "markdown",
   "id": "extreme-orleans",
   "metadata": {},
   "source": [
    "###  Primeira Regressão Linear - Sem tratamento"
   ]
  },
  {
   "cell_type": "markdown",
   "id": "electoral-concentration",
   "metadata": {},
   "source": [
    "Erro: 1562.4289387419713"
   ]
  },
  {
   "cell_type": "code",
   "execution_count": 7,
   "id": "working-paper",
   "metadata": {
    "ExecuteTime": {
     "end_time": "2021-04-28T21:03:42.731849Z",
     "start_time": "2021-04-28T21:03:42.721841Z"
    }
   },
   "outputs": [],
   "source": [
    "X = hist_dia[['carat', 'depth', 'table', 'x', 'y', 'z']]\n",
    "y = hist_dia['price']"
   ]
  },
  {
   "cell_type": "code",
   "execution_count": 8,
   "id": "instructional-george",
   "metadata": {
    "ExecuteTime": {
     "end_time": "2021-04-28T21:03:43.343853Z",
     "start_time": "2021-04-28T21:03:43.321913Z"
    }
   },
   "outputs": [
    {
     "data": {
      "text/plain": [
       "LinearRegression()"
      ]
     },
     "execution_count": 8,
     "metadata": {},
     "output_type": "execute_result"
    }
   ],
   "source": [
    "model_1 = LinearRegression()\n",
    "model_1.fit(X,y)"
   ]
  },
  {
   "cell_type": "code",
   "execution_count": 9,
   "id": "average-satellite",
   "metadata": {
    "ExecuteTime": {
     "end_time": "2021-04-28T21:03:44.053951Z",
     "start_time": "2021-04-28T21:03:44.040023Z"
    }
   },
   "outputs": [],
   "source": [
    "rick_dia['price_predicted'] = model_1.predict(rick_dia[['carat', 'depth', 'table', 'x', 'y', 'z']])"
   ]
  },
  {
   "cell_type": "code",
   "execution_count": null,
   "id": "everyday-disposal",
   "metadata": {
    "ExecuteTime": {
     "end_time": "2021-04-28T20:44:02.605190Z",
     "start_time": "2021-04-28T20:44:02.143288Z"
    }
   },
   "outputs": [],
   "source": [
    "calcula_erro_media(rick_dia)"
   ]
  },
  {
   "cell_type": "markdown",
   "id": "lightweight-spring",
   "metadata": {},
   "source": [
    "###  Tratamento 1: escolhendo colunas numéricas"
   ]
  },
  {
   "cell_type": "markdown",
   "id": "supposed-organizer",
   "metadata": {},
   "source": [
    "Erro: 1586.858254661364"
   ]
  },
  {
   "cell_type": "code",
   "execution_count": 11,
   "id": "spoken-latin",
   "metadata": {
    "ExecuteTime": {
     "end_time": "2021-04-28T21:05:07.989409Z",
     "start_time": "2021-04-28T21:05:07.955500Z"
    }
   },
   "outputs": [
    {
     "data": {
      "text/plain": [
       "carat    0.922186\n",
       "depth   -0.012037\n",
       "table    0.127832\n",
       "price    1.000000\n",
       "x        0.885019\n",
       "y        0.864059\n",
       "z        0.860247\n",
       "Name: price, dtype: float64"
      ]
     },
     "execution_count": 11,
     "metadata": {},
     "output_type": "execute_result"
    }
   ],
   "source": [
    "hist_dia.corr()['price']"
   ]
  },
  {
   "cell_type": "code",
   "execution_count": 12,
   "id": "devoted-colon",
   "metadata": {
    "ExecuteTime": {
     "end_time": "2021-04-28T21:05:10.236395Z",
     "start_time": "2021-04-28T21:05:10.225421Z"
    }
   },
   "outputs": [],
   "source": [
    "X = hist_dia[['carat', 'x', 'y', 'z']]\n",
    "y = hist_dia['price']"
   ]
  },
  {
   "cell_type": "code",
   "execution_count": 13,
   "id": "distributed-guard",
   "metadata": {
    "ExecuteTime": {
     "end_time": "2021-04-28T21:05:10.846827Z",
     "start_time": "2021-04-28T21:05:10.824851Z"
    }
   },
   "outputs": [
    {
     "data": {
      "text/plain": [
       "LinearRegression()"
      ]
     },
     "execution_count": 13,
     "metadata": {},
     "output_type": "execute_result"
    }
   ],
   "source": [
    "model_2 = LinearRegression()\n",
    "model_2.fit(X,y)"
   ]
  },
  {
   "cell_type": "code",
   "execution_count": 14,
   "id": "mature-weight",
   "metadata": {
    "ExecuteTime": {
     "end_time": "2021-04-28T21:05:11.461579Z",
     "start_time": "2021-04-28T21:05:11.450610Z"
    }
   },
   "outputs": [],
   "source": [
    "rick_dia['price_predicted'] = model_2.predict(rick_dia[['carat', 'x', 'y', 'z']])"
   ]
  },
  {
   "cell_type": "code",
   "execution_count": null,
   "id": "controlled-enterprise",
   "metadata": {
    "ExecuteTime": {
     "end_time": "2021-04-28T20:44:49.021783Z",
     "start_time": "2021-04-28T20:44:48.592240Z"
    }
   },
   "outputs": [],
   "source": [
    "calcula_erro_media(rick_dia)"
   ]
  },
  {
   "cell_type": "markdown",
   "id": "nominated-wayne",
   "metadata": {},
   "source": [
    "###  Tratando coluna 'carat'"
   ]
  },
  {
   "cell_type": "markdown",
   "id": "female-majority",
   "metadata": {},
   "source": [
    "**Esta frente pode ser abandonada !!!**\n",
    "\n",
    "Erro: 1587.6633357235637"
   ]
  },
  {
   "cell_type": "code",
   "execution_count": null,
   "id": "occupied-lodge",
   "metadata": {
    "ExecuteTime": {
     "end_time": "2021-04-28T20:29:52.915036Z",
     "start_time": "2021-04-28T20:29:52.490028Z"
    }
   },
   "outputs": [],
   "source": [
    "plt.scatter(x='carat', y='price', data=hist_dia)\n",
    "plt.show()"
   ]
  },
  {
   "cell_type": "code",
   "execution_count": 16,
   "id": "academic-nirvana",
   "metadata": {
    "ExecuteTime": {
     "end_time": "2021-04-28T21:06:08.542094Z",
     "start_time": "2021-04-28T21:06:08.531137Z"
    }
   },
   "outputs": [],
   "source": [
    "hist_dia.loc[hist_dia['carat']>3.2, 'carat'] = hist_dia['carat'].median()"
   ]
  },
  {
   "cell_type": "code",
   "execution_count": 17,
   "id": "chemical-subsection",
   "metadata": {
    "ExecuteTime": {
     "end_time": "2021-04-28T21:07:17.343092Z",
     "start_time": "2021-04-28T21:07:17.329130Z"
    }
   },
   "outputs": [],
   "source": [
    "X = hist_dia[['carat', 'x', 'y', 'z']]\n",
    "y = hist_dia['price']"
   ]
  },
  {
   "cell_type": "code",
   "execution_count": 18,
   "id": "growing-rugby",
   "metadata": {
    "ExecuteTime": {
     "end_time": "2021-04-28T21:07:17.886450Z",
     "start_time": "2021-04-28T21:07:17.872489Z"
    }
   },
   "outputs": [
    {
     "data": {
      "text/plain": [
       "LinearRegression()"
      ]
     },
     "execution_count": 18,
     "metadata": {},
     "output_type": "execute_result"
    }
   ],
   "source": [
    "model_3 = LinearRegression()\n",
    "model_3.fit(X,y)"
   ]
  },
  {
   "cell_type": "code",
   "execution_count": 19,
   "id": "graduate-chancellor",
   "metadata": {
    "ExecuteTime": {
     "end_time": "2021-04-28T21:07:19.921506Z",
     "start_time": "2021-04-28T21:07:19.910512Z"
    }
   },
   "outputs": [],
   "source": [
    "rick_dia['price_predicted'] = model_3.predict(rick_dia[['carat', 'x', 'y', 'z']])"
   ]
  },
  {
   "cell_type": "code",
   "execution_count": null,
   "id": "retired-competition",
   "metadata": {
    "ExecuteTime": {
     "end_time": "2021-04-28T21:07:23.222638Z",
     "start_time": "2021-04-28T21:07:22.792128Z"
    }
   },
   "outputs": [],
   "source": [
    "calcula_erro_media(rick_dia)"
   ]
  },
  {
   "cell_type": "markdown",
   "id": "pending-brother",
   "metadata": {},
   "source": [
    "###  Tratando coluna 'clarity'"
   ]
  },
  {
   "cell_type": "markdown",
   "id": "creative-police",
   "metadata": {},
   "source": [
    "Erro: 1398.109285038074"
   ]
  },
  {
   "cell_type": "code",
   "execution_count": null,
   "id": "generic-bible",
   "metadata": {
    "ExecuteTime": {
     "end_time": "2021-04-28T20:48:35.599225Z",
     "start_time": "2021-04-28T20:48:35.588286Z"
    },
    "scrolled": true
   },
   "outputs": [],
   "source": [
    "hist_dia['clarity'].value_counts()"
   ]
  },
  {
   "cell_type": "code",
   "execution_count": 21,
   "id": "demonstrated-preliminary",
   "metadata": {
    "ExecuteTime": {
     "end_time": "2021-04-28T21:07:16.666859Z",
     "start_time": "2021-04-28T21:07:16.630501Z"
    }
   },
   "outputs": [],
   "source": [
    "# Transformando strings da coluna 'clarity' em inteiros discretos\n",
    "clarity_order = {'I1': 0, 'SI2': 1, 'SI1': 2, 'VS2': 3, 'VS1': 4, 'VVS2': 5, 'VVS1': 6, 'IF': 7}\n",
    "\n",
    "hist_dia['clar'] = hist_dia['clarity'].apply(lambda x: clarity_order[x])\n",
    "rick_dia['clar'] = rick_dia['clarity'].apply(lambda x: clarity_order[x])"
   ]
  },
  {
   "cell_type": "code",
   "execution_count": 22,
   "id": "functioning-greensboro",
   "metadata": {
    "ExecuteTime": {
     "end_time": "2021-04-28T21:07:17.343092Z",
     "start_time": "2021-04-28T21:07:17.329130Z"
    }
   },
   "outputs": [],
   "source": [
    "X = hist_dia[['carat', 'clar', 'x', 'y', 'z']]\n",
    "y = hist_dia['price']"
   ]
  },
  {
   "cell_type": "code",
   "execution_count": 23,
   "id": "suited-puppy",
   "metadata": {
    "ExecuteTime": {
     "end_time": "2021-04-28T21:07:17.886450Z",
     "start_time": "2021-04-28T21:07:17.872489Z"
    }
   },
   "outputs": [
    {
     "data": {
      "text/plain": [
       "LinearRegression()"
      ]
     },
     "execution_count": 23,
     "metadata": {},
     "output_type": "execute_result"
    }
   ],
   "source": [
    "model_4 = LinearRegression()\n",
    "model_4.fit(X,y)"
   ]
  },
  {
   "cell_type": "code",
   "execution_count": 24,
   "id": "amateur-functionality",
   "metadata": {
    "ExecuteTime": {
     "end_time": "2021-04-28T21:07:19.921506Z",
     "start_time": "2021-04-28T21:07:19.910512Z"
    }
   },
   "outputs": [],
   "source": [
    "rick_dia['price_predicted'] = model_4.predict(rick_dia[['carat', 'clar', 'x', 'y', 'z']])"
   ]
  },
  {
   "cell_type": "code",
   "execution_count": 25,
   "id": "industrial-savannah",
   "metadata": {
    "ExecuteTime": {
     "end_time": "2021-04-28T21:07:23.222638Z",
     "start_time": "2021-04-28T21:07:22.792128Z"
    }
   },
   "outputs": [
    {
     "data": {
      "text/plain": [
       "(14248116.273608115, 0.0)"
      ]
     },
     "execution_count": 25,
     "metadata": {},
     "output_type": "execute_result"
    }
   ],
   "source": [
    "calcula_erro_media(rick_dia)"
   ]
  },
  {
   "cell_type": "markdown",
   "id": "directed-delight",
   "metadata": {},
   "source": [
    "###  Tratando coluna 'color'"
   ]
  },
  {
   "cell_type": "markdown",
   "id": "decreased-frank",
   "metadata": {},
   "source": [
    "Erro: 1300.193480874001"
   ]
  },
  {
   "cell_type": "code",
   "execution_count": 27,
   "id": "distinguished-bandwidth",
   "metadata": {
    "ExecuteTime": {
     "end_time": "2021-04-28T21:11:10.314982Z",
     "start_time": "2021-04-28T21:11:10.300021Z"
    },
    "scrolled": true
   },
   "outputs": [
    {
     "data": {
      "text/plain": [
       "G    10287\n",
       "E     8869\n",
       "F     8653\n",
       "H     7542\n",
       "D     6160\n",
       "I     4889\n",
       "J     2540\n",
       "Name: color, dtype: int64"
      ]
     },
     "execution_count": 27,
     "metadata": {},
     "output_type": "execute_result"
    }
   ],
   "source": [
    "hist_dia['color'].value_counts()"
   ]
  },
  {
   "cell_type": "code",
   "execution_count": 28,
   "id": "obvious-possible",
   "metadata": {
    "ExecuteTime": {
     "end_time": "2021-04-28T21:15:16.028648Z",
     "start_time": "2021-04-28T21:15:15.983789Z"
    }
   },
   "outputs": [],
   "source": [
    "# Transformando strings da coluna 'clarity' em inteiros discretos\n",
    "color_order = {'J': 0, 'I': 1, 'H': 2, 'G': 3, 'F': 4, 'E': 5, 'D': 6}\n",
    "\n",
    "hist_dia['color_class'] = hist_dia['color'].apply(lambda x: color_order[x])\n",
    "rick_dia['color_class'] = rick_dia['color'].apply(lambda x: color_order[x])"
   ]
  },
  {
   "cell_type": "code",
   "execution_count": 31,
   "id": "silver-senator",
   "metadata": {
    "ExecuteTime": {
     "end_time": "2021-04-28T21:15:16.624505Z",
     "start_time": "2021-04-28T21:15:16.604590Z"
    }
   },
   "outputs": [],
   "source": [
    "X = hist_dia[['carat', 'clar', 'color_class', 'x', 'y', 'z']]\n",
    "y = hist_dia['price']"
   ]
  },
  {
   "cell_type": "code",
   "execution_count": 32,
   "id": "spare-recruitment",
   "metadata": {
    "ExecuteTime": {
     "end_time": "2021-04-28T21:15:17.382848Z",
     "start_time": "2021-04-28T21:15:17.359911Z"
    }
   },
   "outputs": [
    {
     "data": {
      "text/plain": [
       "LinearRegression()"
      ]
     },
     "execution_count": 32,
     "metadata": {},
     "output_type": "execute_result"
    }
   ],
   "source": [
    "model_5 = LinearRegression()\n",
    "model_5.fit(X,y)"
   ]
  },
  {
   "cell_type": "code",
   "execution_count": 33,
   "id": "express-failure",
   "metadata": {
    "ExecuteTime": {
     "end_time": "2021-04-28T21:15:18.271423Z",
     "start_time": "2021-04-28T21:15:18.253474Z"
    }
   },
   "outputs": [],
   "source": [
    "rick_dia['price_predicted'] = model_5.predict(rick_dia[['carat', 'clar', 'color_class', 'x', 'y', 'z']])"
   ]
  },
  {
   "cell_type": "code",
   "execution_count": 34,
   "id": "based-occasion",
   "metadata": {
    "ExecuteTime": {
     "end_time": "2021-04-28T21:15:20.565645Z",
     "start_time": "2021-04-28T21:15:20.164486Z"
    }
   },
   "outputs": [
    {
     "data": {
      "text/plain": [
       "(14542645.400054568, 0.0)"
      ]
     },
     "execution_count": 34,
     "metadata": {},
     "output_type": "execute_result"
    }
   ],
   "source": [
    "calcula_erro_media(rick_dia)"
   ]
  },
  {
   "cell_type": "markdown",
   "id": "excellent-paper",
   "metadata": {},
   "source": [
    "###  Tratando coluna 'cut'"
   ]
  },
  {
   "cell_type": "markdown",
   "id": "plastic-canadian",
   "metadata": {},
   "source": [
    "Erro: 1288.2588485040092"
   ]
  },
  {
   "cell_type": "code",
   "execution_count": 26,
   "id": "stuffed-mandate",
   "metadata": {
    "ExecuteTime": {
     "end_time": "2021-04-28T21:11:10.314982Z",
     "start_time": "2021-04-28T21:11:10.300021Z"
    },
    "scrolled": true
   },
   "outputs": [
    {
     "data": {
      "text/plain": [
       "Ideal        19608\n",
       "Premium      12507\n",
       "Very Good    10922\n",
       "Good          4443\n",
       "Fair          1460\n",
       "Name: cut, dtype: int64"
      ]
     },
     "execution_count": 26,
     "metadata": {},
     "output_type": "execute_result"
    }
   ],
   "source": [
    "hist_dia['cut'].value_counts()"
   ]
  },
  {
   "cell_type": "code",
   "execution_count": 36,
   "id": "artistic-detroit",
   "metadata": {
    "ExecuteTime": {
     "end_time": "2021-04-28T21:15:16.028648Z",
     "start_time": "2021-04-28T21:15:15.983789Z"
    }
   },
   "outputs": [],
   "source": [
    "# Transformando strings da coluna 'clarity' em inteiros discretos\n",
    "cut_order = {'Fair': 0, 'Good': 1, 'Very Good': 2, 'Premium': 3, 'Ideal': 4}\n",
    "\n",
    "hist_dia['cut_class'] = hist_dia['cut'].apply(lambda x: cut_order[x])\n",
    "rick_dia['cut_class'] = rick_dia['cut'].apply(lambda x: cut_order[x])"
   ]
  },
  {
   "cell_type": "code",
   "execution_count": 37,
   "id": "silver-ticket",
   "metadata": {
    "ExecuteTime": {
     "end_time": "2021-04-28T21:15:16.624505Z",
     "start_time": "2021-04-28T21:15:16.604590Z"
    }
   },
   "outputs": [],
   "source": [
    "X = hist_dia[['carat', 'clar','color_class', 'cut_class', 'x', 'y', 'z']]\n",
    "y = hist_dia['price']"
   ]
  },
  {
   "cell_type": "code",
   "execution_count": 38,
   "id": "mobile-things",
   "metadata": {
    "ExecuteTime": {
     "end_time": "2021-04-28T21:15:17.382848Z",
     "start_time": "2021-04-28T21:15:17.359911Z"
    }
   },
   "outputs": [
    {
     "data": {
      "text/plain": [
       "LinearRegression()"
      ]
     },
     "execution_count": 38,
     "metadata": {},
     "output_type": "execute_result"
    }
   ],
   "source": [
    "model_6 = LinearRegression()\n",
    "model_6.fit(X,y)"
   ]
  },
  {
   "cell_type": "code",
   "execution_count": 39,
   "id": "legislative-messenger",
   "metadata": {
    "ExecuteTime": {
     "end_time": "2021-04-28T21:15:18.271423Z",
     "start_time": "2021-04-28T21:15:18.253474Z"
    }
   },
   "outputs": [],
   "source": [
    "rick_dia['price_predicted'] = model_6.predict(rick_dia[['carat', 'clar', 'color_class', 'cut_class', 'x', 'y', 'z']])"
   ]
  },
  {
   "cell_type": "code",
   "execution_count": 40,
   "id": "confident-brooks",
   "metadata": {
    "ExecuteTime": {
     "end_time": "2021-04-28T21:15:20.565645Z",
     "start_time": "2021-04-28T21:15:20.164486Z"
    }
   },
   "outputs": [
    {
     "data": {
      "text/plain": [
       "(14590627.639565002, 0.0)"
      ]
     },
     "execution_count": 40,
     "metadata": {},
     "output_type": "execute_result"
    }
   ],
   "source": [
    "calcula_erro_media(rick_dia)"
   ]
  },
  {
   "cell_type": "markdown",
   "id": "internal-brazilian",
   "metadata": {},
   "source": [
    "###  Tratando colunas y e z"
   ]
  },
  {
   "cell_type": "markdown",
   "id": "unnecessary-sense",
   "metadata": {},
   "source": [
    "Erro: 1289.9603309540764"
   ]
  },
  {
   "cell_type": "code",
   "execution_count": 54,
   "id": "defensive-transformation",
   "metadata": {
    "ExecuteTime": {
     "end_time": "2021-04-29T15:33:37.508916Z",
     "start_time": "2021-04-29T15:33:37.387708Z"
    },
    "cell_style": "split"
   },
   "outputs": [
    {
     "data": {
      "image/png": "[encoded data removed]",
      "text/plain": [
       "<Figure size 432x288 with 1 Axes>"
      ]
     },
     "metadata": {
      "needs_background": "light"
     },
     "output_type": "display_data"
    }
   ],
   "source": [
    "plt.hist(hist_dia['y']);"
   ]
  },
  {
   "cell_type": "code",
   "execution_count": 55,
   "id": "japanese-summer",
   "metadata": {
    "ExecuteTime": {
     "end_time": "2021-04-29T15:33:39.087687Z",
     "start_time": "2021-04-29T15:33:38.954871Z"
    },
    "cell_style": "split"
   },
   "outputs": [
    {
     "data": {
      "image/png": "[encoded data removed]",
      "text/plain": [
       "<Figure size 432x288 with 1 Axes>"
      ]
     },
     "metadata": {
      "needs_background": "light"
     },
     "output_type": "display_data"
    }
   ],
   "source": [
    "plt.hist(hist_dia['z']);"
   ]
  },
  {
   "cell_type": "code",
   "execution_count": 46,
   "id": "passive-laptop",
   "metadata": {
    "ExecuteTime": {
     "end_time": "2021-04-29T15:29:34.368436Z",
     "start_time": "2021-04-29T15:29:34.359462Z"
    }
   },
   "outputs": [
    {
     "data": {
      "text/plain": [
       "(5, 13)"
      ]
     },
     "execution_count": 46,
     "metadata": {},
     "output_type": "execute_result"
    }
   ],
   "source": [
    "hist_dia.loc[hist_dia['y']>10].shape"
   ]
  },
  {
   "cell_type": "code",
   "execution_count": 47,
   "id": "minute-holmes",
   "metadata": {
    "ExecuteTime": {
     "end_time": "2021-04-29T15:29:44.264517Z",
     "start_time": "2021-04-29T15:29:44.253544Z"
    }
   },
   "outputs": [
    {
     "data": {
      "text/plain": [
       "(2, 13)"
      ]
     },
     "execution_count": 47,
     "metadata": {},
     "output_type": "execute_result"
    }
   ],
   "source": [
    "hist_dia.loc[hist_dia['z']>7].shape"
   ]
  },
  {
   "cell_type": "code",
   "execution_count": 48,
   "id": "minus-assault",
   "metadata": {
    "ExecuteTime": {
     "end_time": "2021-04-29T15:31:14.222074Z",
     "start_time": "2021-04-29T15:31:14.213075Z"
    }
   },
   "outputs": [],
   "source": [
    "hist_dia.loc[hist_dia['y']>10, 'y'] = hist_dia['y'].median()\n",
    "hist_dia.loc[hist_dia['z']>7, 'z'] = hist_dia['z'].median()"
   ]
  },
  {
   "cell_type": "code",
   "execution_count": 61,
   "id": "individual-norway",
   "metadata": {
    "ExecuteTime": {
     "end_time": "2021-04-29T15:35:37.966180Z",
     "start_time": "2021-04-29T15:35:37.956175Z"
    }
   },
   "outputs": [],
   "source": [
    "X = hist_dia[['carat', 'clar','color_class', 'cut_class', 'x', 'y', 'z']]\n",
    "y = hist_dia['price']"
   ]
  },
  {
   "cell_type": "code",
   "execution_count": 62,
   "id": "victorian-istanbul",
   "metadata": {
    "ExecuteTime": {
     "end_time": "2021-04-29T15:35:38.690898Z",
     "start_time": "2021-04-29T15:35:38.670921Z"
    }
   },
   "outputs": [
    {
     "data": {
      "text/plain": [
       "LinearRegression()"
      ]
     },
     "execution_count": 62,
     "metadata": {},
     "output_type": "execute_result"
    }
   ],
   "source": [
    "model_7 = LinearRegression()\n",
    "model_7.fit(X,y)"
   ]
  },
  {
   "cell_type": "code",
   "execution_count": 64,
   "id": "congressional-sigma",
   "metadata": {
    "ExecuteTime": {
     "end_time": "2021-04-29T15:35:45.830096Z",
     "start_time": "2021-04-29T15:35:45.822117Z"
    }
   },
   "outputs": [],
   "source": [
    "rick_dia['price_predicted'] = model_7.predict(rick_dia[['carat', 'clar', 'color_class', 'cut_class', 'x', 'y', 'z']])"
   ]
  },
  {
   "cell_type": "code",
   "execution_count": 65,
   "id": "extended-express",
   "metadata": {
    "ExecuteTime": {
     "end_time": "2021-04-29T15:35:48.722933Z",
     "start_time": "2021-04-29T15:35:48.257623Z"
    }
   },
   "outputs": [
    {
     "data": {
      "text/plain": [
       "(14595853.034192368, 0.0)"
      ]
     },
     "execution_count": 65,
     "metadata": {},
     "output_type": "execute_result"
    }
   ],
   "source": [
    "calcula_erro_media(rick_dia)"
   ]
  },
  {
   "cell_type": "markdown",
   "id": "corporate-progress",
   "metadata": {},
   "source": [
    "##  Salvando .csv"
   ]
  },
  {
   "cell_type": "code",
   "execution_count": 60,
   "id": "preliminary-stroke",
   "metadata": {
    "ExecuteTime": {
     "end_time": "2021-04-29T15:35:11.060701Z",
     "start_time": "2021-04-29T15:35:11.021246Z"
    }
   },
   "outputs": [],
   "source": [
    "rick_dia[['carat', 'cut', 'color', 'clarity', 'depth', 'table', 'x', 'y', 'z', 'price_predicted']].to_csv('data/rick_dia_resposta.csv', index=False)"
   ]
  }
 ],
 "metadata": {
  "kernelspec": {
   "display_name": "Python 3",
   "language": "python",
   "name": "python3"
  },
  "language_info": {
   "codemirror_mode": {
    "name": "ipython",
    "version": 3
   },
   "file_extension": ".py",
   "mimetype": "text/x-python",
   "name": "python",
   "nbconvert_exporter": "python",
   "pygments_lexer": "ipython3",
   "version": "3.8.8"
  },
  "toc": {
   "base_numbering": 1,
   "nav_menu": {},
   "number_sections": true,
   "sideBar": true,
   "skip_h1_title": false,
   "title_cell": "Table of Contents",
   "title_sidebar": "Contents",
   "toc_cell": false,
   "toc_position": {},
   "toc_section_display": true,
   "toc_window_display": false
  },
  "varInspector": {
   "cols": {
    "lenName": 16,
    "lenType": 16,
    "lenVar": 40
   },
   "kernels_config": {
    "python": {
     "delete_cmd_postfix": "",
     "delete_cmd_prefix": "del ",
     "library": "var_list.py",
     "varRefreshCmd": "print(var_dic_list())"
    },
    "r": {
     "delete_cmd_postfix": ") ",
     "delete_cmd_prefix": "rm(",
     "library": "var_list.r",
     "varRefreshCmd": "cat(var_dic_list()) "
    }
   },
   "types_to_exclude": [
    "module",
    "function",
    "builtin_function_or_method",
    "instance",
    "_Feature"
   ],
   "window_display": false
  }
 },
 "nbformat": 4,
 "nbformat_minor": 5
}
